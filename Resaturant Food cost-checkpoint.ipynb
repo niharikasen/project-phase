{
 "cells": [
  {
   "cell_type": "code",
   "execution_count": 1,
   "id": "2614c6ef",
   "metadata": {},
   "outputs": [],
   "source": [
    "import pandas as pd \n",
    "import numpy as np\n",
    "\n",
    "import seaborn as sns\n",
    "import matplotlib.pyplot as plt\n",
    "import warnings\n",
    "warnings.filterwarnings('ignore')"
   ]
  },
  {
   "cell_type": "code",
   "execution_count": 2,
   "id": "e9724d6b",
   "metadata": {},
   "outputs": [
    {
     "data": {
      "text/html": [
       "<div>\n",
       "<style scoped>\n",
       "    .dataframe tbody tr th:only-of-type {\n",
       "        vertical-align: middle;\n",
       "    }\n",
       "\n",
       "    .dataframe tbody tr th {\n",
       "        vertical-align: top;\n",
       "    }\n",
       "\n",
       "    .dataframe thead th {\n",
       "        text-align: right;\n",
       "    }\n",
       "</style>\n",
       "<table border=\"1\" class=\"dataframe\">\n",
       "  <thead>\n",
       "    <tr style=\"text-align: right;\">\n",
       "      <th></th>\n",
       "      <th>TITLE</th>\n",
       "      <th>RESTAURANT_ID</th>\n",
       "      <th>CUISINES</th>\n",
       "      <th>TIME</th>\n",
       "      <th>CITY</th>\n",
       "      <th>LOCALITY</th>\n",
       "      <th>RATING</th>\n",
       "      <th>VOTES</th>\n",
       "      <th>COST</th>\n",
       "    </tr>\n",
       "  </thead>\n",
       "  <tbody>\n",
       "    <tr>\n",
       "      <th>0</th>\n",
       "      <td>CASUAL DINING</td>\n",
       "      <td>9438</td>\n",
       "      <td>Malwani, Goan, North Indian</td>\n",
       "      <td>11am – 4pm, 7:30pm – 11:30pm (Mon-Sun)</td>\n",
       "      <td>Thane</td>\n",
       "      <td>Dombivali East</td>\n",
       "      <td>3.6</td>\n",
       "      <td>49 votes</td>\n",
       "      <td>1200</td>\n",
       "    </tr>\n",
       "    <tr>\n",
       "      <th>1</th>\n",
       "      <td>CASUAL DINING,BAR</td>\n",
       "      <td>13198</td>\n",
       "      <td>Asian, Modern Indian, Japanese</td>\n",
       "      <td>6pm – 11pm (Mon-Sun)</td>\n",
       "      <td>Chennai</td>\n",
       "      <td>Ramapuram</td>\n",
       "      <td>4.2</td>\n",
       "      <td>30 votes</td>\n",
       "      <td>1500</td>\n",
       "    </tr>\n",
       "    <tr>\n",
       "      <th>2</th>\n",
       "      <td>CASUAL DINING</td>\n",
       "      <td>10915</td>\n",
       "      <td>North Indian, Chinese, Biryani, Hyderabadi</td>\n",
       "      <td>11am – 3:30pm, 7pm – 11pm (Mon-Sun)</td>\n",
       "      <td>Chennai</td>\n",
       "      <td>Saligramam</td>\n",
       "      <td>3.8</td>\n",
       "      <td>221 votes</td>\n",
       "      <td>800</td>\n",
       "    </tr>\n",
       "    <tr>\n",
       "      <th>3</th>\n",
       "      <td>QUICK BITES</td>\n",
       "      <td>6346</td>\n",
       "      <td>Tibetan, Chinese</td>\n",
       "      <td>11:30am – 1am (Mon-Sun)</td>\n",
       "      <td>Mumbai</td>\n",
       "      <td>Bandra West</td>\n",
       "      <td>4.1</td>\n",
       "      <td>24 votes</td>\n",
       "      <td>800</td>\n",
       "    </tr>\n",
       "    <tr>\n",
       "      <th>4</th>\n",
       "      <td>DESSERT PARLOR</td>\n",
       "      <td>15387</td>\n",
       "      <td>Desserts</td>\n",
       "      <td>11am – 1am (Mon-Sun)</td>\n",
       "      <td>Mumbai</td>\n",
       "      <td>Lower Parel</td>\n",
       "      <td>3.8</td>\n",
       "      <td>165 votes</td>\n",
       "      <td>300</td>\n",
       "    </tr>\n",
       "    <tr>\n",
       "      <th>...</th>\n",
       "      <td>...</td>\n",
       "      <td>...</td>\n",
       "      <td>...</td>\n",
       "      <td>...</td>\n",
       "      <td>...</td>\n",
       "      <td>...</td>\n",
       "      <td>...</td>\n",
       "      <td>...</td>\n",
       "      <td>...</td>\n",
       "    </tr>\n",
       "    <tr>\n",
       "      <th>12685</th>\n",
       "      <td>QUICK BITES</td>\n",
       "      <td>13228</td>\n",
       "      <td>North Indian, Burger, Kebab</td>\n",
       "      <td>12noon – 12midnight (Mon, Tue, Wed, Thu, Sun)...</td>\n",
       "      <td>Hyderabad</td>\n",
       "      <td>Gachibowli</td>\n",
       "      <td>3.8</td>\n",
       "      <td>546 votes</td>\n",
       "      <td>500</td>\n",
       "    </tr>\n",
       "    <tr>\n",
       "      <th>12686</th>\n",
       "      <td>CASUAL DINING,BAR</td>\n",
       "      <td>9686</td>\n",
       "      <td>Goan, Continental</td>\n",
       "      <td>12noon – 1am (Mon-Fri),11am – 5pm, 7pm – 1am...</td>\n",
       "      <td>Mumbai</td>\n",
       "      <td>Bandra Kurla Complex</td>\n",
       "      <td>4.3</td>\n",
       "      <td>1214 votes</td>\n",
       "      <td>1800</td>\n",
       "    </tr>\n",
       "    <tr>\n",
       "      <th>12687</th>\n",
       "      <td>LOUNGE</td>\n",
       "      <td>11133</td>\n",
       "      <td>Finger Food, Continental, Asian, Chinese</td>\n",
       "      <td>12noon – 12:30AM (Mon-Sun)</td>\n",
       "      <td>Navi Mumbai</td>\n",
       "      <td>Vashi</td>\n",
       "      <td>4.0</td>\n",
       "      <td>608 votes</td>\n",
       "      <td>1300</td>\n",
       "    </tr>\n",
       "    <tr>\n",
       "      <th>12688</th>\n",
       "      <td>CASUAL DINING</td>\n",
       "      <td>6134</td>\n",
       "      <td>North Indian, South Indian, Chinese, Street Food</td>\n",
       "      <td>6am – 10:45pm (Mon-Sun)</td>\n",
       "      <td>Chennai</td>\n",
       "      <td>Maduravoyal</td>\n",
       "      <td>3.5</td>\n",
       "      <td>32 votes</td>\n",
       "      <td>400</td>\n",
       "    </tr>\n",
       "    <tr>\n",
       "      <th>12689</th>\n",
       "      <td>CASUAL DINING</td>\n",
       "      <td>6430</td>\n",
       "      <td>North Indian, Chinese</td>\n",
       "      <td>12:30pm – 11pm (Mon-Sun)</td>\n",
       "      <td>Hyderabad</td>\n",
       "      <td>Vanasthalipuram</td>\n",
       "      <td>3.4</td>\n",
       "      <td>677 votes</td>\n",
       "      <td>600</td>\n",
       "    </tr>\n",
       "  </tbody>\n",
       "</table>\n",
       "<p>12690 rows × 9 columns</p>\n",
       "</div>"
      ],
      "text/plain": [
       "                   TITLE  RESTAURANT_ID  \\\n",
       "0          CASUAL DINING           9438   \n",
       "1      CASUAL DINING,BAR          13198   \n",
       "2          CASUAL DINING          10915   \n",
       "3            QUICK BITES           6346   \n",
       "4         DESSERT PARLOR          15387   \n",
       "...                  ...            ...   \n",
       "12685        QUICK BITES          13228   \n",
       "12686  CASUAL DINING,BAR           9686   \n",
       "12687             LOUNGE          11133   \n",
       "12688      CASUAL DINING           6134   \n",
       "12689      CASUAL DINING           6430   \n",
       "\n",
       "                                               CUISINES  \\\n",
       "0                           Malwani, Goan, North Indian   \n",
       "1                        Asian, Modern Indian, Japanese   \n",
       "2            North Indian, Chinese, Biryani, Hyderabadi   \n",
       "3                                      Tibetan, Chinese   \n",
       "4                                              Desserts   \n",
       "...                                                 ...   \n",
       "12685                       North Indian, Burger, Kebab   \n",
       "12686                                 Goan, Continental   \n",
       "12687          Finger Food, Continental, Asian, Chinese   \n",
       "12688  North Indian, South Indian, Chinese, Street Food   \n",
       "12689                             North Indian, Chinese   \n",
       "\n",
       "                                                   TIME         CITY  \\\n",
       "0                11am – 4pm, 7:30pm – 11:30pm (Mon-Sun)        Thane   \n",
       "1                                  6pm – 11pm (Mon-Sun)      Chennai   \n",
       "2                   11am – 3:30pm, 7pm – 11pm (Mon-Sun)      Chennai   \n",
       "3                               11:30am – 1am (Mon-Sun)       Mumbai   \n",
       "4                                  11am – 1am (Mon-Sun)       Mumbai   \n",
       "...                                                 ...          ...   \n",
       "12685  12noon – 12midnight (Mon, Tue, Wed, Thu, Sun)...    Hyderabad   \n",
       "12686   12noon – 1am (Mon-Fri),11am – 5pm, 7pm – 1am...       Mumbai   \n",
       "12687                        12noon – 12:30AM (Mon-Sun)  Navi Mumbai   \n",
       "12688                           6am – 10:45pm (Mon-Sun)      Chennai   \n",
       "12689                          12:30pm – 11pm (Mon-Sun)    Hyderabad   \n",
       "\n",
       "                   LOCALITY RATING       VOTES  COST  \n",
       "0            Dombivali East    3.6    49 votes  1200  \n",
       "1                 Ramapuram    4.2    30 votes  1500  \n",
       "2                Saligramam    3.8   221 votes   800  \n",
       "3               Bandra West    4.1    24 votes   800  \n",
       "4               Lower Parel    3.8   165 votes   300  \n",
       "...                     ...    ...         ...   ...  \n",
       "12685            Gachibowli    3.8   546 votes   500  \n",
       "12686  Bandra Kurla Complex    4.3  1214 votes  1800  \n",
       "12687                 Vashi    4.0   608 votes  1300  \n",
       "12688           Maduravoyal    3.5    32 votes   400  \n",
       "12689       Vanasthalipuram    3.4   677 votes   600  \n",
       "\n",
       "[12690 rows x 9 columns]"
      ]
     },
     "execution_count": 2,
     "metadata": {},
     "output_type": "execute_result"
    }
   ],
   "source": [
    "\n",
    "train = pd.read_excel(r\"C:\\Users\\HP\\Downloads\\Data_Train (1).xlsx\")\n",
    "train"
   ]
  },
  {
   "cell_type": "code",
   "execution_count": 3,
   "id": "ba8d29b6",
   "metadata": {},
   "outputs": [
    {
     "data": {
      "text/html": [
       "<div>\n",
       "<style scoped>\n",
       "    .dataframe tbody tr th:only-of-type {\n",
       "        vertical-align: middle;\n",
       "    }\n",
       "\n",
       "    .dataframe tbody tr th {\n",
       "        vertical-align: top;\n",
       "    }\n",
       "\n",
       "    .dataframe thead th {\n",
       "        text-align: right;\n",
       "    }\n",
       "</style>\n",
       "<table border=\"1\" class=\"dataframe\">\n",
       "  <thead>\n",
       "    <tr style=\"text-align: right;\">\n",
       "      <th></th>\n",
       "      <th>TITLE</th>\n",
       "      <th>RESTAURANT_ID</th>\n",
       "      <th>CUISINES</th>\n",
       "      <th>TIME</th>\n",
       "      <th>CITY</th>\n",
       "      <th>LOCALITY</th>\n",
       "      <th>RATING</th>\n",
       "      <th>VOTES</th>\n",
       "    </tr>\n",
       "  </thead>\n",
       "  <tbody>\n",
       "    <tr>\n",
       "      <th>0</th>\n",
       "      <td>CASUAL DINING</td>\n",
       "      <td>4085</td>\n",
       "      <td>North Indian, Chinese, Mughlai, Kebab</td>\n",
       "      <td>12noon – 12midnight (Mon-Sun)</td>\n",
       "      <td>Noida</td>\n",
       "      <td>Sector 18</td>\n",
       "      <td>4.3</td>\n",
       "      <td>564 votes</td>\n",
       "    </tr>\n",
       "    <tr>\n",
       "      <th>1</th>\n",
       "      <td>QUICK BITES</td>\n",
       "      <td>12680</td>\n",
       "      <td>South Indian, Fast Food, Pizza, North Indian</td>\n",
       "      <td>7am – 12:30AM (Mon-Sun)</td>\n",
       "      <td>Mumbai</td>\n",
       "      <td>Grant Road</td>\n",
       "      <td>4.2</td>\n",
       "      <td>61 votes</td>\n",
       "    </tr>\n",
       "    <tr>\n",
       "      <th>2</th>\n",
       "      <td>CASUAL DINING</td>\n",
       "      <td>1411</td>\n",
       "      <td>North Indian, Seafood, Biryani, Chinese</td>\n",
       "      <td>11am – 11:30pm (Mon-Sun)</td>\n",
       "      <td>Mumbai</td>\n",
       "      <td>Marine Lines</td>\n",
       "      <td>3.8</td>\n",
       "      <td>350 votes</td>\n",
       "    </tr>\n",
       "    <tr>\n",
       "      <th>3</th>\n",
       "      <td>None</td>\n",
       "      <td>204</td>\n",
       "      <td>Biryani</td>\n",
       "      <td>9am – 10pm (Mon, Wed, Thu, Fri, Sat, Sun), 10:...</td>\n",
       "      <td>Faridabad</td>\n",
       "      <td>NIT</td>\n",
       "      <td>3.8</td>\n",
       "      <td>1445 votes</td>\n",
       "    </tr>\n",
       "    <tr>\n",
       "      <th>4</th>\n",
       "      <td>QUICK BITES</td>\n",
       "      <td>13453</td>\n",
       "      <td>South Indian, Kerala</td>\n",
       "      <td>11am – 10pm (Mon-Sun)</td>\n",
       "      <td>Kochi</td>\n",
       "      <td>Kaloor</td>\n",
       "      <td>3.6</td>\n",
       "      <td>23 votes</td>\n",
       "    </tr>\n",
       "    <tr>\n",
       "      <th>...</th>\n",
       "      <td>...</td>\n",
       "      <td>...</td>\n",
       "      <td>...</td>\n",
       "      <td>...</td>\n",
       "      <td>...</td>\n",
       "      <td>...</td>\n",
       "      <td>...</td>\n",
       "      <td>...</td>\n",
       "    </tr>\n",
       "    <tr>\n",
       "      <th>4226</th>\n",
       "      <td>CASUAL DINING</td>\n",
       "      <td>9057</td>\n",
       "      <td>North Indian, Mughlai, Chinese</td>\n",
       "      <td>11:30am – 11:30pm (Mon-Sun)</td>\n",
       "      <td>New Delhi</td>\n",
       "      <td>Punjabi Bagh</td>\n",
       "      <td>3.9</td>\n",
       "      <td>287 votes</td>\n",
       "    </tr>\n",
       "    <tr>\n",
       "      <th>4227</th>\n",
       "      <td>None</td>\n",
       "      <td>1247</td>\n",
       "      <td>Biryani, North Indian, Sandwich, Salad, Wraps</td>\n",
       "      <td>11am – 1am (Mon-Sun)</td>\n",
       "      <td>Bangalore</td>\n",
       "      <td>HSR Layout</td>\n",
       "      <td>4.3</td>\n",
       "      <td>469 votes</td>\n",
       "    </tr>\n",
       "    <tr>\n",
       "      <th>4228</th>\n",
       "      <td>QUICK BITES</td>\n",
       "      <td>8617</td>\n",
       "      <td>Continental, North Indian</td>\n",
       "      <td>9:30am – 10:30pm (Mon-Sun)</td>\n",
       "      <td>Faridabad</td>\n",
       "      <td>Sector 86</td>\n",
       "      <td>3.7</td>\n",
       "      <td>53 votes</td>\n",
       "    </tr>\n",
       "    <tr>\n",
       "      <th>4229</th>\n",
       "      <td>QUICK BITES</td>\n",
       "      <td>6485</td>\n",
       "      <td>Rolls, Beverages</td>\n",
       "      <td>11am – 11:30pm (Mon, Tue, Wed, Thu, Sat, Sun),...</td>\n",
       "      <td>Kochi</td>\n",
       "      <td>Kochi</td>\n",
       "      <td>-</td>\n",
       "      <td>NaN</td>\n",
       "    </tr>\n",
       "    <tr>\n",
       "      <th>4230</th>\n",
       "      <td>QUICK BITES</td>\n",
       "      <td>2421</td>\n",
       "      <td>Mughlai</td>\n",
       "      <td>5pm – 1am (Mon-Sun)</td>\n",
       "      <td>Bandra West</td>\n",
       "      <td>Perry Cross Road</td>\n",
       "      <td>3.7</td>\n",
       "      <td>63 votes</td>\n",
       "    </tr>\n",
       "  </tbody>\n",
       "</table>\n",
       "<p>4231 rows × 8 columns</p>\n",
       "</div>"
      ],
      "text/plain": [
       "              TITLE  RESTAURANT_ID  \\\n",
       "0     CASUAL DINING           4085   \n",
       "1       QUICK BITES          12680   \n",
       "2     CASUAL DINING           1411   \n",
       "3              None            204   \n",
       "4       QUICK BITES          13453   \n",
       "...             ...            ...   \n",
       "4226  CASUAL DINING           9057   \n",
       "4227           None           1247   \n",
       "4228    QUICK BITES           8617   \n",
       "4229    QUICK BITES           6485   \n",
       "4230    QUICK BITES           2421   \n",
       "\n",
       "                                           CUISINES  \\\n",
       "0             North Indian, Chinese, Mughlai, Kebab   \n",
       "1      South Indian, Fast Food, Pizza, North Indian   \n",
       "2           North Indian, Seafood, Biryani, Chinese   \n",
       "3                                           Biryani   \n",
       "4                              South Indian, Kerala   \n",
       "...                                             ...   \n",
       "4226                 North Indian, Mughlai, Chinese   \n",
       "4227  Biryani, North Indian, Sandwich, Salad, Wraps   \n",
       "4228                      Continental, North Indian   \n",
       "4229                               Rolls, Beverages   \n",
       "4230                                        Mughlai   \n",
       "\n",
       "                                                   TIME         CITY  \\\n",
       "0                         12noon – 12midnight (Mon-Sun)        Noida   \n",
       "1                               7am – 12:30AM (Mon-Sun)       Mumbai   \n",
       "2                              11am – 11:30pm (Mon-Sun)       Mumbai   \n",
       "3     9am – 10pm (Mon, Wed, Thu, Fri, Sat, Sun), 10:...    Faridabad   \n",
       "4                                 11am – 10pm (Mon-Sun)        Kochi   \n",
       "...                                                 ...          ...   \n",
       "4226                        11:30am – 11:30pm (Mon-Sun)    New Delhi   \n",
       "4227                               11am – 1am (Mon-Sun)    Bangalore   \n",
       "4228                         9:30am – 10:30pm (Mon-Sun)    Faridabad   \n",
       "4229  11am – 11:30pm (Mon, Tue, Wed, Thu, Sat, Sun),...        Kochi   \n",
       "4230                                5pm – 1am (Mon-Sun)  Bandra West   \n",
       "\n",
       "              LOCALITY RATING       VOTES  \n",
       "0            Sector 18    4.3   564 votes  \n",
       "1           Grant Road    4.2    61 votes  \n",
       "2         Marine Lines    3.8   350 votes  \n",
       "3                  NIT    3.8  1445 votes  \n",
       "4               Kaloor    3.6    23 votes  \n",
       "...                ...    ...         ...  \n",
       "4226      Punjabi Bagh    3.9   287 votes  \n",
       "4227        HSR Layout    4.3   469 votes  \n",
       "4228         Sector 86    3.7    53 votes  \n",
       "4229             Kochi      -         NaN  \n",
       "4230  Perry Cross Road    3.7    63 votes  \n",
       "\n",
       "[4231 rows x 8 columns]"
      ]
     },
     "execution_count": 3,
     "metadata": {},
     "output_type": "execute_result"
    }
   ],
   "source": [
    "test = pd.read_excel(r\"C:\\Users\\HP\\Downloads\\Data_Test (1).xlsx\")\n",
    "test"
   ]
  },
  {
   "cell_type": "code",
   "execution_count": 8,
   "id": "f86362da",
   "metadata": {},
   "outputs": [
    {
     "data": {
      "text/html": [
       "<div>\n",
       "<style scoped>\n",
       "    .dataframe tbody tr th:only-of-type {\n",
       "        vertical-align: middle;\n",
       "    }\n",
       "\n",
       "    .dataframe tbody tr th {\n",
       "        vertical-align: top;\n",
       "    }\n",
       "\n",
       "    .dataframe thead th {\n",
       "        text-align: right;\n",
       "    }\n",
       "</style>\n",
       "<table border=\"1\" class=\"dataframe\">\n",
       "  <thead>\n",
       "    <tr style=\"text-align: right;\">\n",
       "      <th></th>\n",
       "      <th>TITLE</th>\n",
       "      <th>RESTAURANT_ID</th>\n",
       "      <th>CUISINES</th>\n",
       "      <th>TIME</th>\n",
       "      <th>CITY</th>\n",
       "      <th>LOCALITY</th>\n",
       "      <th>RATING</th>\n",
       "      <th>VOTES</th>\n",
       "    </tr>\n",
       "  </thead>\n",
       "  <tbody>\n",
       "    <tr>\n",
       "      <th>0</th>\n",
       "      <td>CASUAL DINING</td>\n",
       "      <td>4085</td>\n",
       "      <td>North Indian, Chinese, Mughlai, Kebab</td>\n",
       "      <td>12noon – 12midnight (Mon-Sun)</td>\n",
       "      <td>Noida</td>\n",
       "      <td>Sector 18</td>\n",
       "      <td>4.3</td>\n",
       "      <td>564 votes</td>\n",
       "    </tr>\n",
       "    <tr>\n",
       "      <th>1</th>\n",
       "      <td>QUICK BITES</td>\n",
       "      <td>12680</td>\n",
       "      <td>South Indian, Fast Food, Pizza, North Indian</td>\n",
       "      <td>7am – 12:30AM (Mon-Sun)</td>\n",
       "      <td>Mumbai</td>\n",
       "      <td>Grant Road</td>\n",
       "      <td>4.2</td>\n",
       "      <td>61 votes</td>\n",
       "    </tr>\n",
       "    <tr>\n",
       "      <th>2</th>\n",
       "      <td>CASUAL DINING</td>\n",
       "      <td>1411</td>\n",
       "      <td>North Indian, Seafood, Biryani, Chinese</td>\n",
       "      <td>11am – 11:30pm (Mon-Sun)</td>\n",
       "      <td>Mumbai</td>\n",
       "      <td>Marine Lines</td>\n",
       "      <td>3.8</td>\n",
       "      <td>350 votes</td>\n",
       "    </tr>\n",
       "    <tr>\n",
       "      <th>3</th>\n",
       "      <td>None</td>\n",
       "      <td>204</td>\n",
       "      <td>Biryani</td>\n",
       "      <td>9am – 10pm (Mon, Wed, Thu, Fri, Sat, Sun), 10:...</td>\n",
       "      <td>Faridabad</td>\n",
       "      <td>NIT</td>\n",
       "      <td>3.8</td>\n",
       "      <td>1445 votes</td>\n",
       "    </tr>\n",
       "    <tr>\n",
       "      <th>4</th>\n",
       "      <td>QUICK BITES</td>\n",
       "      <td>13453</td>\n",
       "      <td>South Indian, Kerala</td>\n",
       "      <td>11am – 10pm (Mon-Sun)</td>\n",
       "      <td>Kochi</td>\n",
       "      <td>Kaloor</td>\n",
       "      <td>3.6</td>\n",
       "      <td>23 votes</td>\n",
       "    </tr>\n",
       "  </tbody>\n",
       "</table>\n",
       "</div>"
      ],
      "text/plain": [
       "           TITLE  RESTAURANT_ID                                      CUISINES  \\\n",
       "0  CASUAL DINING           4085         North Indian, Chinese, Mughlai, Kebab   \n",
       "1    QUICK BITES          12680  South Indian, Fast Food, Pizza, North Indian   \n",
       "2  CASUAL DINING           1411       North Indian, Seafood, Biryani, Chinese   \n",
       "3           None            204                                       Biryani   \n",
       "4    QUICK BITES          13453                          South Indian, Kerala   \n",
       "\n",
       "                                                TIME       CITY      LOCALITY  \\\n",
       "0                      12noon – 12midnight (Mon-Sun)      Noida     Sector 18   \n",
       "1                            7am – 12:30AM (Mon-Sun)     Mumbai    Grant Road   \n",
       "2                           11am – 11:30pm (Mon-Sun)     Mumbai  Marine Lines   \n",
       "3  9am – 10pm (Mon, Wed, Thu, Fri, Sat, Sun), 10:...  Faridabad           NIT   \n",
       "4                              11am – 10pm (Mon-Sun)      Kochi        Kaloor   \n",
       "\n",
       "  RATING       VOTES  \n",
       "0    4.3   564 votes  \n",
       "1    4.2    61 votes  \n",
       "2    3.8   350 votes  \n",
       "3    3.8  1445 votes  \n",
       "4    3.6    23 votes  "
      ]
     },
     "execution_count": 8,
     "metadata": {},
     "output_type": "execute_result"
    }
   ],
   "source": [
    "test.head()"
   ]
  },
  {
   "cell_type": "code",
   "execution_count": 9,
   "id": "e2a5772d",
   "metadata": {},
   "outputs": [
    {
     "data": {
      "text/html": [
       "<div>\n",
       "<style scoped>\n",
       "    .dataframe tbody tr th:only-of-type {\n",
       "        vertical-align: middle;\n",
       "    }\n",
       "\n",
       "    .dataframe tbody tr th {\n",
       "        vertical-align: top;\n",
       "    }\n",
       "\n",
       "    .dataframe thead th {\n",
       "        text-align: right;\n",
       "    }\n",
       "</style>\n",
       "<table border=\"1\" class=\"dataframe\">\n",
       "  <thead>\n",
       "    <tr style=\"text-align: right;\">\n",
       "      <th></th>\n",
       "      <th>TITLE</th>\n",
       "      <th>RESTAURANT_ID</th>\n",
       "      <th>CUISINES</th>\n",
       "      <th>TIME</th>\n",
       "      <th>CITY</th>\n",
       "      <th>LOCALITY</th>\n",
       "      <th>RATING</th>\n",
       "      <th>VOTES</th>\n",
       "      <th>COST</th>\n",
       "    </tr>\n",
       "  </thead>\n",
       "  <tbody>\n",
       "    <tr>\n",
       "      <th>0</th>\n",
       "      <td>CASUAL DINING</td>\n",
       "      <td>9438</td>\n",
       "      <td>Malwani, Goan, North Indian</td>\n",
       "      <td>11am – 4pm, 7:30pm – 11:30pm (Mon-Sun)</td>\n",
       "      <td>Thane</td>\n",
       "      <td>Dombivali East</td>\n",
       "      <td>3.6</td>\n",
       "      <td>49 votes</td>\n",
       "      <td>1200</td>\n",
       "    </tr>\n",
       "    <tr>\n",
       "      <th>1</th>\n",
       "      <td>CASUAL DINING,BAR</td>\n",
       "      <td>13198</td>\n",
       "      <td>Asian, Modern Indian, Japanese</td>\n",
       "      <td>6pm – 11pm (Mon-Sun)</td>\n",
       "      <td>Chennai</td>\n",
       "      <td>Ramapuram</td>\n",
       "      <td>4.2</td>\n",
       "      <td>30 votes</td>\n",
       "      <td>1500</td>\n",
       "    </tr>\n",
       "    <tr>\n",
       "      <th>2</th>\n",
       "      <td>CASUAL DINING</td>\n",
       "      <td>10915</td>\n",
       "      <td>North Indian, Chinese, Biryani, Hyderabadi</td>\n",
       "      <td>11am – 3:30pm, 7pm – 11pm (Mon-Sun)</td>\n",
       "      <td>Chennai</td>\n",
       "      <td>Saligramam</td>\n",
       "      <td>3.8</td>\n",
       "      <td>221 votes</td>\n",
       "      <td>800</td>\n",
       "    </tr>\n",
       "    <tr>\n",
       "      <th>3</th>\n",
       "      <td>QUICK BITES</td>\n",
       "      <td>6346</td>\n",
       "      <td>Tibetan, Chinese</td>\n",
       "      <td>11:30am – 1am (Mon-Sun)</td>\n",
       "      <td>Mumbai</td>\n",
       "      <td>Bandra West</td>\n",
       "      <td>4.1</td>\n",
       "      <td>24 votes</td>\n",
       "      <td>800</td>\n",
       "    </tr>\n",
       "    <tr>\n",
       "      <th>4</th>\n",
       "      <td>DESSERT PARLOR</td>\n",
       "      <td>15387</td>\n",
       "      <td>Desserts</td>\n",
       "      <td>11am – 1am (Mon-Sun)</td>\n",
       "      <td>Mumbai</td>\n",
       "      <td>Lower Parel</td>\n",
       "      <td>3.8</td>\n",
       "      <td>165 votes</td>\n",
       "      <td>300</td>\n",
       "    </tr>\n",
       "  </tbody>\n",
       "</table>\n",
       "</div>"
      ],
      "text/plain": [
       "               TITLE  RESTAURANT_ID  \\\n",
       "0      CASUAL DINING           9438   \n",
       "1  CASUAL DINING,BAR          13198   \n",
       "2      CASUAL DINING          10915   \n",
       "3        QUICK BITES           6346   \n",
       "4     DESSERT PARLOR          15387   \n",
       "\n",
       "                                     CUISINES  \\\n",
       "0                 Malwani, Goan, North Indian   \n",
       "1              Asian, Modern Indian, Japanese   \n",
       "2  North Indian, Chinese, Biryani, Hyderabadi   \n",
       "3                            Tibetan, Chinese   \n",
       "4                                    Desserts   \n",
       "\n",
       "                                     TIME     CITY        LOCALITY RATING  \\\n",
       "0  11am – 4pm, 7:30pm – 11:30pm (Mon-Sun)    Thane  Dombivali East    3.6   \n",
       "1                    6pm – 11pm (Mon-Sun)  Chennai       Ramapuram    4.2   \n",
       "2     11am – 3:30pm, 7pm – 11pm (Mon-Sun)  Chennai      Saligramam    3.8   \n",
       "3                 11:30am – 1am (Mon-Sun)   Mumbai     Bandra West    4.1   \n",
       "4                    11am – 1am (Mon-Sun)   Mumbai     Lower Parel    3.8   \n",
       "\n",
       "       VOTES  COST  \n",
       "0   49 votes  1200  \n",
       "1   30 votes  1500  \n",
       "2  221 votes   800  \n",
       "3   24 votes   800  \n",
       "4  165 votes   300  "
      ]
     },
     "execution_count": 9,
     "metadata": {},
     "output_type": "execute_result"
    }
   ],
   "source": [
    "train.head()"
   ]
  },
  {
   "cell_type": "code",
   "execution_count": 10,
   "id": "0b6baf4d",
   "metadata": {},
   "outputs": [
    {
     "data": {
      "text/html": [
       "<div>\n",
       "<style scoped>\n",
       "    .dataframe tbody tr th:only-of-type {\n",
       "        vertical-align: middle;\n",
       "    }\n",
       "\n",
       "    .dataframe tbody tr th {\n",
       "        vertical-align: top;\n",
       "    }\n",
       "\n",
       "    .dataframe thead th {\n",
       "        text-align: right;\n",
       "    }\n",
       "</style>\n",
       "<table border=\"1\" class=\"dataframe\">\n",
       "  <thead>\n",
       "    <tr style=\"text-align: right;\">\n",
       "      <th></th>\n",
       "      <th>TITLE</th>\n",
       "      <th>RESTAURANT_ID</th>\n",
       "      <th>CUISINES</th>\n",
       "      <th>TIME</th>\n",
       "      <th>CITY</th>\n",
       "      <th>LOCALITY</th>\n",
       "      <th>RATING</th>\n",
       "      <th>VOTES</th>\n",
       "    </tr>\n",
       "  </thead>\n",
       "  <tbody>\n",
       "    <tr>\n",
       "      <th>4226</th>\n",
       "      <td>CASUAL DINING</td>\n",
       "      <td>9057</td>\n",
       "      <td>North Indian, Mughlai, Chinese</td>\n",
       "      <td>11:30am – 11:30pm (Mon-Sun)</td>\n",
       "      <td>New Delhi</td>\n",
       "      <td>Punjabi Bagh</td>\n",
       "      <td>3.9</td>\n",
       "      <td>287 votes</td>\n",
       "    </tr>\n",
       "    <tr>\n",
       "      <th>4227</th>\n",
       "      <td>None</td>\n",
       "      <td>1247</td>\n",
       "      <td>Biryani, North Indian, Sandwich, Salad, Wraps</td>\n",
       "      <td>11am – 1am (Mon-Sun)</td>\n",
       "      <td>Bangalore</td>\n",
       "      <td>HSR Layout</td>\n",
       "      <td>4.3</td>\n",
       "      <td>469 votes</td>\n",
       "    </tr>\n",
       "    <tr>\n",
       "      <th>4228</th>\n",
       "      <td>QUICK BITES</td>\n",
       "      <td>8617</td>\n",
       "      <td>Continental, North Indian</td>\n",
       "      <td>9:30am – 10:30pm (Mon-Sun)</td>\n",
       "      <td>Faridabad</td>\n",
       "      <td>Sector 86</td>\n",
       "      <td>3.7</td>\n",
       "      <td>53 votes</td>\n",
       "    </tr>\n",
       "    <tr>\n",
       "      <th>4229</th>\n",
       "      <td>QUICK BITES</td>\n",
       "      <td>6485</td>\n",
       "      <td>Rolls, Beverages</td>\n",
       "      <td>11am – 11:30pm (Mon, Tue, Wed, Thu, Sat, Sun),...</td>\n",
       "      <td>Kochi</td>\n",
       "      <td>Kochi</td>\n",
       "      <td>-</td>\n",
       "      <td>NaN</td>\n",
       "    </tr>\n",
       "    <tr>\n",
       "      <th>4230</th>\n",
       "      <td>QUICK BITES</td>\n",
       "      <td>2421</td>\n",
       "      <td>Mughlai</td>\n",
       "      <td>5pm – 1am (Mon-Sun)</td>\n",
       "      <td>Bandra West</td>\n",
       "      <td>Perry Cross Road</td>\n",
       "      <td>3.7</td>\n",
       "      <td>63 votes</td>\n",
       "    </tr>\n",
       "  </tbody>\n",
       "</table>\n",
       "</div>"
      ],
      "text/plain": [
       "              TITLE  RESTAURANT_ID  \\\n",
       "4226  CASUAL DINING           9057   \n",
       "4227           None           1247   \n",
       "4228    QUICK BITES           8617   \n",
       "4229    QUICK BITES           6485   \n",
       "4230    QUICK BITES           2421   \n",
       "\n",
       "                                           CUISINES  \\\n",
       "4226                 North Indian, Mughlai, Chinese   \n",
       "4227  Biryani, North Indian, Sandwich, Salad, Wraps   \n",
       "4228                      Continental, North Indian   \n",
       "4229                               Rolls, Beverages   \n",
       "4230                                        Mughlai   \n",
       "\n",
       "                                                   TIME         CITY  \\\n",
       "4226                        11:30am – 11:30pm (Mon-Sun)    New Delhi   \n",
       "4227                               11am – 1am (Mon-Sun)    Bangalore   \n",
       "4228                         9:30am – 10:30pm (Mon-Sun)    Faridabad   \n",
       "4229  11am – 11:30pm (Mon, Tue, Wed, Thu, Sat, Sun),...        Kochi   \n",
       "4230                                5pm – 1am (Mon-Sun)  Bandra West   \n",
       "\n",
       "              LOCALITY RATING      VOTES  \n",
       "4226      Punjabi Bagh    3.9  287 votes  \n",
       "4227        HSR Layout    4.3  469 votes  \n",
       "4228         Sector 86    3.7   53 votes  \n",
       "4229             Kochi      -        NaN  \n",
       "4230  Perry Cross Road    3.7   63 votes  "
      ]
     },
     "execution_count": 10,
     "metadata": {},
     "output_type": "execute_result"
    }
   ],
   "source": [
    "test.tail()"
   ]
  },
  {
   "cell_type": "code",
   "execution_count": 11,
   "id": "ebf348d1",
   "metadata": {},
   "outputs": [
    {
     "data": {
      "text/html": [
       "<div>\n",
       "<style scoped>\n",
       "    .dataframe tbody tr th:only-of-type {\n",
       "        vertical-align: middle;\n",
       "    }\n",
       "\n",
       "    .dataframe tbody tr th {\n",
       "        vertical-align: top;\n",
       "    }\n",
       "\n",
       "    .dataframe thead th {\n",
       "        text-align: right;\n",
       "    }\n",
       "</style>\n",
       "<table border=\"1\" class=\"dataframe\">\n",
       "  <thead>\n",
       "    <tr style=\"text-align: right;\">\n",
       "      <th></th>\n",
       "      <th>TITLE</th>\n",
       "      <th>RESTAURANT_ID</th>\n",
       "      <th>CUISINES</th>\n",
       "      <th>TIME</th>\n",
       "      <th>CITY</th>\n",
       "      <th>LOCALITY</th>\n",
       "      <th>RATING</th>\n",
       "      <th>VOTES</th>\n",
       "      <th>COST</th>\n",
       "    </tr>\n",
       "  </thead>\n",
       "  <tbody>\n",
       "    <tr>\n",
       "      <th>12685</th>\n",
       "      <td>QUICK BITES</td>\n",
       "      <td>13228</td>\n",
       "      <td>North Indian, Burger, Kebab</td>\n",
       "      <td>12noon – 12midnight (Mon, Tue, Wed, Thu, Sun)...</td>\n",
       "      <td>Hyderabad</td>\n",
       "      <td>Gachibowli</td>\n",
       "      <td>3.8</td>\n",
       "      <td>546 votes</td>\n",
       "      <td>500</td>\n",
       "    </tr>\n",
       "    <tr>\n",
       "      <th>12686</th>\n",
       "      <td>CASUAL DINING,BAR</td>\n",
       "      <td>9686</td>\n",
       "      <td>Goan, Continental</td>\n",
       "      <td>12noon – 1am (Mon-Fri),11am – 5pm, 7pm – 1am...</td>\n",
       "      <td>Mumbai</td>\n",
       "      <td>Bandra Kurla Complex</td>\n",
       "      <td>4.3</td>\n",
       "      <td>1214 votes</td>\n",
       "      <td>1800</td>\n",
       "    </tr>\n",
       "    <tr>\n",
       "      <th>12687</th>\n",
       "      <td>LOUNGE</td>\n",
       "      <td>11133</td>\n",
       "      <td>Finger Food, Continental, Asian, Chinese</td>\n",
       "      <td>12noon – 12:30AM (Mon-Sun)</td>\n",
       "      <td>Navi Mumbai</td>\n",
       "      <td>Vashi</td>\n",
       "      <td>4.0</td>\n",
       "      <td>608 votes</td>\n",
       "      <td>1300</td>\n",
       "    </tr>\n",
       "    <tr>\n",
       "      <th>12688</th>\n",
       "      <td>CASUAL DINING</td>\n",
       "      <td>6134</td>\n",
       "      <td>North Indian, South Indian, Chinese, Street Food</td>\n",
       "      <td>6am – 10:45pm (Mon-Sun)</td>\n",
       "      <td>Chennai</td>\n",
       "      <td>Maduravoyal</td>\n",
       "      <td>3.5</td>\n",
       "      <td>32 votes</td>\n",
       "      <td>400</td>\n",
       "    </tr>\n",
       "    <tr>\n",
       "      <th>12689</th>\n",
       "      <td>CASUAL DINING</td>\n",
       "      <td>6430</td>\n",
       "      <td>North Indian, Chinese</td>\n",
       "      <td>12:30pm – 11pm (Mon-Sun)</td>\n",
       "      <td>Hyderabad</td>\n",
       "      <td>Vanasthalipuram</td>\n",
       "      <td>3.4</td>\n",
       "      <td>677 votes</td>\n",
       "      <td>600</td>\n",
       "    </tr>\n",
       "  </tbody>\n",
       "</table>\n",
       "</div>"
      ],
      "text/plain": [
       "                   TITLE  RESTAURANT_ID  \\\n",
       "12685        QUICK BITES          13228   \n",
       "12686  CASUAL DINING,BAR           9686   \n",
       "12687             LOUNGE          11133   \n",
       "12688      CASUAL DINING           6134   \n",
       "12689      CASUAL DINING           6430   \n",
       "\n",
       "                                               CUISINES  \\\n",
       "12685                       North Indian, Burger, Kebab   \n",
       "12686                                 Goan, Continental   \n",
       "12687          Finger Food, Continental, Asian, Chinese   \n",
       "12688  North Indian, South Indian, Chinese, Street Food   \n",
       "12689                             North Indian, Chinese   \n",
       "\n",
       "                                                   TIME         CITY  \\\n",
       "12685  12noon – 12midnight (Mon, Tue, Wed, Thu, Sun)...    Hyderabad   \n",
       "12686   12noon – 1am (Mon-Fri),11am – 5pm, 7pm – 1am...       Mumbai   \n",
       "12687                        12noon – 12:30AM (Mon-Sun)  Navi Mumbai   \n",
       "12688                           6am – 10:45pm (Mon-Sun)      Chennai   \n",
       "12689                          12:30pm – 11pm (Mon-Sun)    Hyderabad   \n",
       "\n",
       "                   LOCALITY RATING       VOTES  COST  \n",
       "12685            Gachibowli    3.8   546 votes   500  \n",
       "12686  Bandra Kurla Complex    4.3  1214 votes  1800  \n",
       "12687                 Vashi    4.0   608 votes  1300  \n",
       "12688           Maduravoyal    3.5    32 votes   400  \n",
       "12689       Vanasthalipuram    3.4   677 votes   600  "
      ]
     },
     "execution_count": 11,
     "metadata": {},
     "output_type": "execute_result"
    }
   ],
   "source": [
    "train.tail()"
   ]
  },
  {
   "cell_type": "markdown",
   "id": "dc9ddb73",
   "metadata": {},
   "source": [
    "# EXPLORATORY DATA ANALYSIS(EDA)"
   ]
  },
  {
   "cell_type": "code",
   "execution_count": 12,
   "id": "7b690f88",
   "metadata": {},
   "outputs": [
    {
     "data": {
      "text/plain": [
       "(12690, 9)"
      ]
     },
     "execution_count": 12,
     "metadata": {},
     "output_type": "execute_result"
    }
   ],
   "source": [
    "#checking dimension of data set\n",
    "train.shape"
   ]
  },
  {
   "cell_type": "code",
   "execution_count": 13,
   "id": "839f0bf0",
   "metadata": {},
   "outputs": [
    {
     "data": {
      "text/plain": [
       "(4231, 8)"
      ]
     },
     "execution_count": 13,
     "metadata": {},
     "output_type": "execute_result"
    }
   ],
   "source": [
    "test.shape"
   ]
  },
  {
   "cell_type": "markdown",
   "id": "3e438db5",
   "metadata": {},
   "source": [
    "###### Hence, we can see that we have 7 similar features in the both the dataset and 'cost' is the variable that is to be predicted"
   ]
  },
  {
   "cell_type": "code",
   "execution_count": 14,
   "id": "6bcdb4a2",
   "metadata": {},
   "outputs": [
    {
     "data": {
      "text/plain": [
       "Index(['TITLE', 'RESTAURANT_ID', 'CUISINES', 'TIME', 'CITY', 'LOCALITY',\n",
       "       'RATING', 'VOTES'],\n",
       "      dtype='object')"
      ]
     },
     "execution_count": 14,
     "metadata": {},
     "output_type": "execute_result"
    }
   ],
   "source": [
    "test.columns"
   ]
  },
  {
   "cell_type": "code",
   "execution_count": 16,
   "id": "4efa778a",
   "metadata": {},
   "outputs": [
    {
     "data": {
      "text/plain": [
       "Index(['TITLE', 'RESTAURANT_ID', 'CUISINES', 'TIME', 'CITY', 'LOCALITY',\n",
       "       'RATING', 'VOTES', 'COST'],\n",
       "      dtype='object')"
      ]
     },
     "execution_count": 16,
     "metadata": {},
     "output_type": "execute_result"
    }
   ],
   "source": [
    "train.columns"
   ]
  },
  {
   "cell_type": "code",
   "execution_count": 17,
   "id": "e0b451f1",
   "metadata": {},
   "outputs": [
    {
     "name": "stdout",
     "output_type": "stream",
     "text": [
      "<class 'pandas.core.frame.DataFrame'>\n",
      "RangeIndex: 12690 entries, 0 to 12689\n",
      "Data columns (total 9 columns):\n",
      " #   Column         Non-Null Count  Dtype \n",
      "---  ------         --------------  ----- \n",
      " 0   TITLE          12690 non-null  object\n",
      " 1   RESTAURANT_ID  12690 non-null  int64 \n",
      " 2   CUISINES       12690 non-null  object\n",
      " 3   TIME           12690 non-null  object\n",
      " 4   CITY           12578 non-null  object\n",
      " 5   LOCALITY       12592 non-null  object\n",
      " 6   RATING         12688 non-null  object\n",
      " 7   VOTES          11486 non-null  object\n",
      " 8   COST           12690 non-null  int64 \n",
      "dtypes: int64(2), object(7)\n",
      "memory usage: 892.4+ KB\n"
     ]
    }
   ],
   "source": [
    "train.info()"
   ]
  },
  {
   "cell_type": "code",
   "execution_count": 18,
   "id": "d52c7d9f",
   "metadata": {},
   "outputs": [
    {
     "name": "stdout",
     "output_type": "stream",
     "text": [
      "<class 'pandas.core.frame.DataFrame'>\n",
      "RangeIndex: 4231 entries, 0 to 4230\n",
      "Data columns (total 8 columns):\n",
      " #   Column         Non-Null Count  Dtype \n",
      "---  ------         --------------  ----- \n",
      " 0   TITLE          4231 non-null   object\n",
      " 1   RESTAURANT_ID  4231 non-null   int64 \n",
      " 2   CUISINES       4231 non-null   object\n",
      " 3   TIME           4231 non-null   object\n",
      " 4   CITY           4196 non-null   object\n",
      " 5   LOCALITY       4201 non-null   object\n",
      " 6   RATING         4229 non-null   object\n",
      " 7   VOTES          3829 non-null   object\n",
      "dtypes: int64(1), object(7)\n",
      "memory usage: 264.6+ KB\n"
     ]
    }
   ],
   "source": [
    "test.info()"
   ]
  },
  {
   "cell_type": "code",
   "execution_count": 19,
   "id": "3900a9be",
   "metadata": {},
   "outputs": [
    {
     "data": {
      "text/plain": [
       "TITLE               0\n",
       "RESTAURANT_ID       0\n",
       "CUISINES            0\n",
       "TIME                0\n",
       "CITY              112\n",
       "LOCALITY           98\n",
       "RATING              2\n",
       "VOTES            1204\n",
       "COST                0\n",
       "dtype: int64"
      ]
     },
     "execution_count": 19,
     "metadata": {},
     "output_type": "execute_result"
    }
   ],
   "source": [
    "#checking for missing values in train dataset\n",
    "train.isnull().sum()"
   ]
  },
  {
   "cell_type": "markdown",
   "id": "63c9d0f5",
   "metadata": {},
   "source": [
    "###### In train dataset  there is  null value present in city,locality,votes and rating column."
   ]
  },
  {
   "cell_type": "markdown",
   "id": "bbc17752",
   "metadata": {},
   "source": [
    "###### we will fil the missing  values for  other columns that show null values using mean."
   ]
  },
  {
   "cell_type": "code",
   "execution_count": 20,
   "id": "233e1a5a",
   "metadata": {},
   "outputs": [
    {
     "data": {
      "text/plain": [
       "<Axes: >"
      ]
     },
     "execution_count": 20,
     "metadata": {},
     "output_type": "execute_result"
    },
    {
     "data": {
      "image/png": "[encoded data removed]",
      "text/plain": [
       "<Figure size 640x480 with 2 Axes>"
      ]
     },
     "metadata": {},
     "output_type": "display_data"
    }
   ],
   "source": [
    "# using  visualize techinque  heatmap \n",
    "sns.heatmap(df.isnull())"
   ]
  },
  {
   "cell_type": "markdown",
   "id": "436d8c7e",
   "metadata": {},
   "source": [
    "###### In this dataset   missing data present in city ,locality, votes  column ."
   ]
  },
  {
   "cell_type": "code",
   "execution_count": 21,
   "id": "7b19e8eb",
   "metadata": {},
   "outputs": [
    {
     "name": "stdout",
     "output_type": "stream",
     "text": [
      "QUICK BITES                 4218\n",
      "CASUAL DINING               3652\n",
      "None                        1003\n",
      "CAFÉ                         607\n",
      "DESSERT PARLOR               382\n",
      "                            ... \n",
      "QUICK BITES,BAR                1\n",
      "MEAT SHOP                      1\n",
      "SWEET SHOP,CONFECTIONERY       1\n",
      "BEVERAGE SHOP,FOOD COURT       1\n",
      "BAR,MICROBREWERY               1\n",
      "Name: TITLE, Length: 113, dtype: int64\n",
      "\n",
      "\n",
      "7264     8\n",
      "4634     7\n",
      "9910     6\n",
      "11971    5\n",
      "12747    5\n",
      "        ..\n",
      "9069     1\n",
      "6573     1\n",
      "7430     1\n",
      "6381     1\n",
      "6134     1\n",
      "Name: RESTAURANT_ID, Length: 11892, dtype: int64\n",
      "\n",
      "\n",
      "South Indian                                  532\n",
      "North Indian                                  526\n",
      "North Indian, Chinese                         501\n",
      "Fast Food                                     286\n",
      "Chinese                                       167\n",
      "                                             ... \n",
      "Italian, Biryani, Fast Food                     1\n",
      "Desserts, Juices, Fast Food                     1\n",
      "Asian, Continental, European, North Indian      1\n",
      "Cafe, Continental, Italian, Lebanese            1\n",
      "Finger Food, Continental, Asian, Chinese        1\n",
      "Name: CUISINES, Length: 4155, dtype: int64\n",
      "\n",
      "\n",
      "11am – 11pm (Mon-Sun)                                 1415\n",
      "12noon – 12midnight (Mon-Sun)                          469\n",
      "12noon – 11pm (Mon-Sun)                                407\n",
      "11am – 12midnight (Mon-Sun)                            310\n",
      "10am – 10pm (Mon-Sun)                                  221\n",
      "                                                      ... \n",
      "10am – 10pm (Mon-Fri),8:30am – 10pm (Sat-Sun)            1\n",
      "12noon – 3:30pm, 6pm – 10:30pm (Mon-Thu),12noon...       1\n",
      "12noon – 5:30pm, 7pm – 11pm (Mon-Sun)                    1\n",
      "12midnight – 11:45pm (Mon-Sun)                           1\n",
      "12noon – 1am (Mon-Fri),11am – 5pm, 7pm – 1am...          1\n",
      "Name: TIME, Length: 2689, dtype: int64\n",
      "\n",
      "\n",
      "Chennai                                                                           2174\n",
      "Bangalore                                                                         2149\n",
      "Hyderabad                                                                         1819\n",
      "Mumbai                                                                            1722\n",
      "New Delhi                                                                         1321\n",
      "                                                                                  ... \n",
      "Gachibowli Hyderabad                                                                 1\n",
      "CPR layout harlur main road opposite to ozone ever green apartment Bangalore -       1\n",
      "ECR NEELANKARAI Chennai 600115                                                       1\n",
      "ward X11                                                                             1\n",
      "Masab Tank                                                                           1\n",
      "Name: CITY, Length: 359, dtype: int64\n",
      "\n",
      "\n",
      "Gachibowli                 166\n",
      "Indiranagar                138\n",
      "Edappally                  122\n",
      "Kakkanad                   121\n",
      "HSR                        120\n",
      "                          ... \n",
      "Huda Market                  1\n",
      "OMR Road Sholinganallur      1\n",
      "Telangana 500053             1\n",
      "1st Lane                     1\n",
      "Near Malviya Nagar           1\n",
      "Name: LOCALITY, Length: 1416, dtype: int64\n",
      "\n",
      "\n",
      "3.9    1238\n",
      "3.8    1190\n",
      "4.0    1099\n",
      "3.7    1086\n",
      "3.6     951\n",
      "4.1     936\n",
      "3.5     771\n",
      "4.2     723\n",
      "NEW     707\n",
      "3.4     575\n",
      "4.3     556\n",
      "-       495\n",
      "3.3     365\n",
      "4.4     362\n",
      "3.2     266\n",
      "4.5     199\n",
      "2.9     186\n",
      "3.1     186\n",
      "3.0     170\n",
      "2.8     146\n",
      "4.6     141\n",
      "2.7      89\n",
      "4.7      69\n",
      "2.6      61\n",
      "2.5      35\n",
      "4.8      32\n",
      "4.9      22\n",
      "2.4      15\n",
      "2.3      10\n",
      "2.1       3\n",
      "2.0       2\n",
      "2.2       2\n",
      "Name: RATING, dtype: int64\n",
      "\n",
      "\n",
      "44 votes      71\n",
      "29 votes      66\n",
      "28 votes      66\n",
      "38 votes      65\n",
      "35 votes      64\n",
      "              ..\n",
      "1020 votes     1\n",
      "4634 votes     1\n",
      "2297 votes     1\n",
      "1475 votes     1\n",
      "1214 votes     1\n",
      "Name: VOTES, Length: 1847, dtype: int64\n",
      "\n",
      "\n",
      "300      1595\n",
      "400      1357\n",
      "500      1300\n",
      "200      1031\n",
      "600       806\n",
      "         ... \n",
      "8000        1\n",
      "14000       1\n",
      "5200        1\n",
      "80          1\n",
      "70          1\n",
      "Name: COST, Length: 86, dtype: int64\n",
      "\n",
      "\n"
     ]
    }
   ],
   "source": [
    "# checking the value counts of each columns\n",
    "for i in train.columns:\n",
    "    print(train[i].value_counts())\n",
    "    print(\"\\n\") "
   ]
  },
  {
   "cell_type": "code",
   "execution_count": 4,
   "id": "a8f61b88",
   "metadata": {},
   "outputs": [
    {
     "data": {
      "text/html": [
       "<div>\n",
       "<style scoped>\n",
       "    .dataframe tbody tr th:only-of-type {\n",
       "        vertical-align: middle;\n",
       "    }\n",
       "\n",
       "    .dataframe tbody tr th {\n",
       "        vertical-align: top;\n",
       "    }\n",
       "\n",
       "    .dataframe thead th {\n",
       "        text-align: right;\n",
       "    }\n",
       "</style>\n",
       "<table border=\"1\" class=\"dataframe\">\n",
       "  <thead>\n",
       "    <tr style=\"text-align: right;\">\n",
       "      <th></th>\n",
       "      <th>TITLE</th>\n",
       "      <th>CUISINES</th>\n",
       "      <th>TIME</th>\n",
       "      <th>CITY</th>\n",
       "      <th>LOCALITY</th>\n",
       "      <th>RATING</th>\n",
       "      <th>VOTES</th>\n",
       "      <th>COST</th>\n",
       "    </tr>\n",
       "  </thead>\n",
       "  <tbody>\n",
       "    <tr>\n",
       "      <th>0</th>\n",
       "      <td>CASUAL DINING</td>\n",
       "      <td>Malwani, Goan, North Indian</td>\n",
       "      <td>11am – 4pm, 7:30pm – 11:30pm (Mon-Sun)</td>\n",
       "      <td>Thane</td>\n",
       "      <td>Dombivali East</td>\n",
       "      <td>3.6</td>\n",
       "      <td>49 votes</td>\n",
       "      <td>1200</td>\n",
       "    </tr>\n",
       "    <tr>\n",
       "      <th>1</th>\n",
       "      <td>CASUAL DINING,BAR</td>\n",
       "      <td>Asian, Modern Indian, Japanese</td>\n",
       "      <td>6pm – 11pm (Mon-Sun)</td>\n",
       "      <td>Chennai</td>\n",
       "      <td>Ramapuram</td>\n",
       "      <td>4.2</td>\n",
       "      <td>30 votes</td>\n",
       "      <td>1500</td>\n",
       "    </tr>\n",
       "    <tr>\n",
       "      <th>2</th>\n",
       "      <td>CASUAL DINING</td>\n",
       "      <td>North Indian, Chinese, Biryani, Hyderabadi</td>\n",
       "      <td>11am – 3:30pm, 7pm – 11pm (Mon-Sun)</td>\n",
       "      <td>Chennai</td>\n",
       "      <td>Saligramam</td>\n",
       "      <td>3.8</td>\n",
       "      <td>221 votes</td>\n",
       "      <td>800</td>\n",
       "    </tr>\n",
       "    <tr>\n",
       "      <th>3</th>\n",
       "      <td>QUICK BITES</td>\n",
       "      <td>Tibetan, Chinese</td>\n",
       "      <td>11:30am – 1am (Mon-Sun)</td>\n",
       "      <td>Mumbai</td>\n",
       "      <td>Bandra West</td>\n",
       "      <td>4.1</td>\n",
       "      <td>24 votes</td>\n",
       "      <td>800</td>\n",
       "    </tr>\n",
       "    <tr>\n",
       "      <th>4</th>\n",
       "      <td>DESSERT PARLOR</td>\n",
       "      <td>Desserts</td>\n",
       "      <td>11am – 1am (Mon-Sun)</td>\n",
       "      <td>Mumbai</td>\n",
       "      <td>Lower Parel</td>\n",
       "      <td>3.8</td>\n",
       "      <td>165 votes</td>\n",
       "      <td>300</td>\n",
       "    </tr>\n",
       "    <tr>\n",
       "      <th>...</th>\n",
       "      <td>...</td>\n",
       "      <td>...</td>\n",
       "      <td>...</td>\n",
       "      <td>...</td>\n",
       "      <td>...</td>\n",
       "      <td>...</td>\n",
       "      <td>...</td>\n",
       "      <td>...</td>\n",
       "    </tr>\n",
       "    <tr>\n",
       "      <th>12685</th>\n",
       "      <td>QUICK BITES</td>\n",
       "      <td>North Indian, Burger, Kebab</td>\n",
       "      <td>12noon – 12midnight (Mon, Tue, Wed, Thu, Sun)...</td>\n",
       "      <td>Hyderabad</td>\n",
       "      <td>Gachibowli</td>\n",
       "      <td>3.8</td>\n",
       "      <td>546 votes</td>\n",
       "      <td>500</td>\n",
       "    </tr>\n",
       "    <tr>\n",
       "      <th>12686</th>\n",
       "      <td>CASUAL DINING,BAR</td>\n",
       "      <td>Goan, Continental</td>\n",
       "      <td>12noon – 1am (Mon-Fri),11am – 5pm, 7pm – 1am...</td>\n",
       "      <td>Mumbai</td>\n",
       "      <td>Bandra Kurla Complex</td>\n",
       "      <td>4.3</td>\n",
       "      <td>1214 votes</td>\n",
       "      <td>1800</td>\n",
       "    </tr>\n",
       "    <tr>\n",
       "      <th>12687</th>\n",
       "      <td>LOUNGE</td>\n",
       "      <td>Finger Food, Continental, Asian, Chinese</td>\n",
       "      <td>12noon – 12:30AM (Mon-Sun)</td>\n",
       "      <td>Navi Mumbai</td>\n",
       "      <td>Vashi</td>\n",
       "      <td>4.0</td>\n",
       "      <td>608 votes</td>\n",
       "      <td>1300</td>\n",
       "    </tr>\n",
       "    <tr>\n",
       "      <th>12688</th>\n",
       "      <td>CASUAL DINING</td>\n",
       "      <td>North Indian, South Indian, Chinese, Street Food</td>\n",
       "      <td>6am – 10:45pm (Mon-Sun)</td>\n",
       "      <td>Chennai</td>\n",
       "      <td>Maduravoyal</td>\n",
       "      <td>3.5</td>\n",
       "      <td>32 votes</td>\n",
       "      <td>400</td>\n",
       "    </tr>\n",
       "    <tr>\n",
       "      <th>12689</th>\n",
       "      <td>CASUAL DINING</td>\n",
       "      <td>North Indian, Chinese</td>\n",
       "      <td>12:30pm – 11pm (Mon-Sun)</td>\n",
       "      <td>Hyderabad</td>\n",
       "      <td>Vanasthalipuram</td>\n",
       "      <td>3.4</td>\n",
       "      <td>677 votes</td>\n",
       "      <td>600</td>\n",
       "    </tr>\n",
       "  </tbody>\n",
       "</table>\n",
       "<p>12690 rows × 8 columns</p>\n",
       "</div>"
      ],
      "text/plain": [
       "                   TITLE                                          CUISINES  \\\n",
       "0          CASUAL DINING                       Malwani, Goan, North Indian   \n",
       "1      CASUAL DINING,BAR                    Asian, Modern Indian, Japanese   \n",
       "2          CASUAL DINING        North Indian, Chinese, Biryani, Hyderabadi   \n",
       "3            QUICK BITES                                  Tibetan, Chinese   \n",
       "4         DESSERT PARLOR                                          Desserts   \n",
       "...                  ...                                               ...   \n",
       "12685        QUICK BITES                       North Indian, Burger, Kebab   \n",
       "12686  CASUAL DINING,BAR                                 Goan, Continental   \n",
       "12687             LOUNGE          Finger Food, Continental, Asian, Chinese   \n",
       "12688      CASUAL DINING  North Indian, South Indian, Chinese, Street Food   \n",
       "12689      CASUAL DINING                             North Indian, Chinese   \n",
       "\n",
       "                                                   TIME         CITY  \\\n",
       "0                11am – 4pm, 7:30pm – 11:30pm (Mon-Sun)        Thane   \n",
       "1                                  6pm – 11pm (Mon-Sun)      Chennai   \n",
       "2                   11am – 3:30pm, 7pm – 11pm (Mon-Sun)      Chennai   \n",
       "3                               11:30am – 1am (Mon-Sun)       Mumbai   \n",
       "4                                  11am – 1am (Mon-Sun)       Mumbai   \n",
       "...                                                 ...          ...   \n",
       "12685  12noon – 12midnight (Mon, Tue, Wed, Thu, Sun)...    Hyderabad   \n",
       "12686   12noon – 1am (Mon-Fri),11am – 5pm, 7pm – 1am...       Mumbai   \n",
       "12687                        12noon – 12:30AM (Mon-Sun)  Navi Mumbai   \n",
       "12688                           6am – 10:45pm (Mon-Sun)      Chennai   \n",
       "12689                          12:30pm – 11pm (Mon-Sun)    Hyderabad   \n",
       "\n",
       "                   LOCALITY RATING       VOTES  COST  \n",
       "0            Dombivali East    3.6    49 votes  1200  \n",
       "1                 Ramapuram    4.2    30 votes  1500  \n",
       "2                Saligramam    3.8   221 votes   800  \n",
       "3               Bandra West    4.1    24 votes   800  \n",
       "4               Lower Parel    3.8   165 votes   300  \n",
       "...                     ...    ...         ...   ...  \n",
       "12685            Gachibowli    3.8   546 votes   500  \n",
       "12686  Bandra Kurla Complex    4.3  1214 votes  1800  \n",
       "12687                 Vashi    4.0   608 votes  1300  \n",
       "12688           Maduravoyal    3.5    32 votes   400  \n",
       "12689       Vanasthalipuram    3.4   677 votes   600  \n",
       "\n",
       "[12690 rows x 8 columns]"
      ]
     },
     "execution_count": 4,
     "metadata": {},
     "output_type": "execute_result"
    }
   ],
   "source": [
    "##Let us remove cabin column \n",
    "\n",
    "train = train.drop(columns=['RESTAURANT_ID'], axis=1)\n",
    "train\n"
   ]
  },
  {
   "cell_type": "markdown",
   "id": "2570ec84",
   "metadata": {},
   "source": [
    "# Description of Data set"
   ]
  },
  {
   "cell_type": "code",
   "execution_count": 4,
   "id": "1362372a",
   "metadata": {},
   "outputs": [
    {
     "data": {
      "text/html": [
       "<div>\n",
       "<style scoped>\n",
       "    .dataframe tbody tr th:only-of-type {\n",
       "        vertical-align: middle;\n",
       "    }\n",
       "\n",
       "    .dataframe tbody tr th {\n",
       "        vertical-align: top;\n",
       "    }\n",
       "\n",
       "    .dataframe thead th {\n",
       "        text-align: right;\n",
       "    }\n",
       "</style>\n",
       "<table border=\"1\" class=\"dataframe\">\n",
       "  <thead>\n",
       "    <tr style=\"text-align: right;\">\n",
       "      <th></th>\n",
       "      <th>RESTAURANT_ID</th>\n",
       "      <th>COST</th>\n",
       "    </tr>\n",
       "  </thead>\n",
       "  <tbody>\n",
       "    <tr>\n",
       "      <th>count</th>\n",
       "      <td>12690.000000</td>\n",
       "      <td>12690.000000</td>\n",
       "    </tr>\n",
       "    <tr>\n",
       "      <th>mean</th>\n",
       "      <td>7759.134121</td>\n",
       "      <td>655.252246</td>\n",
       "    </tr>\n",
       "    <tr>\n",
       "      <th>std</th>\n",
       "      <td>4504.874150</td>\n",
       "      <td>627.003540</td>\n",
       "    </tr>\n",
       "    <tr>\n",
       "      <th>min</th>\n",
       "      <td>0.000000</td>\n",
       "      <td>20.000000</td>\n",
       "    </tr>\n",
       "    <tr>\n",
       "      <th>25%</th>\n",
       "      <td>3863.250000</td>\n",
       "      <td>300.000000</td>\n",
       "    </tr>\n",
       "    <tr>\n",
       "      <th>50%</th>\n",
       "      <td>7740.000000</td>\n",
       "      <td>500.000000</td>\n",
       "    </tr>\n",
       "    <tr>\n",
       "      <th>75%</th>\n",
       "      <td>11688.750000</td>\n",
       "      <td>800.000000</td>\n",
       "    </tr>\n",
       "    <tr>\n",
       "      <th>max</th>\n",
       "      <td>15573.000000</td>\n",
       "      <td>14000.000000</td>\n",
       "    </tr>\n",
       "  </tbody>\n",
       "</table>\n",
       "</div>"
      ],
      "text/plain": [
       "       RESTAURANT_ID          COST\n",
       "count   12690.000000  12690.000000\n",
       "mean     7759.134121    655.252246\n",
       "std      4504.874150    627.003540\n",
       "min         0.000000     20.000000\n",
       "25%      3863.250000    300.000000\n",
       "50%      7740.000000    500.000000\n",
       "75%     11688.750000    800.000000\n",
       "max     15573.000000  14000.000000"
      ]
     },
     "execution_count": 4,
     "metadata": {},
     "output_type": "execute_result"
    }
   ],
   "source": [
    "# used describe method its give information about the continuous column\n",
    "train.describe()"
   ]
  },
  {
   "cell_type": "markdown",
   "id": "59ab4665",
   "metadata": {},
   "source": [
    "###### from above the description we can observer the following."
   ]
  },
  {
   "cell_type": "markdown",
   "id": "42c92051",
   "metadata": {},
   "source": [
    "###### \n",
    "1.The count of all the columns are same.\n",
    "\n",
    "2.The mean value is greater then the meadian(50%)in cost and id which means data is sknewed to right in these column\n",
    "\n",
    "3.In the  column   first quartile(25%)and second quratile(50%) much of variance.\n",
    "\n",
    "4.In the data we can observe there is huge difference in (75%)  column.Hence there are outlier present in the data.\n",
    "\n",
    "5.In this data set we can observer so many outlier present."
   ]
  },
  {
   "cell_type": "code",
   "execution_count": 37,
   "id": "770373bc",
   "metadata": {},
   "outputs": [],
   "source": [
    "import re\n",
    "def timeclean(v):\n",
    "    return re.sub(\"[^a-zA-Z0-9:]\", \" \",v)\n",
    "train['VOTES'].fillna('0 votes',inplace=True)\n",
    "train['VOTES']=train['VOTES'].apply(lambda x : int(x.split(' ')[0]))\n",
    "train['VOTES.BINS']=pd.cut(train['VOTES'],5,labels=['Sly','Fair','Good','Great','Awesome']).astype(np.object)"
   ]
  },
  {
   "cell_type": "markdown",
   "id": "f7b235d9",
   "metadata": {},
   "source": [
    "# Data visualization"
   ]
  },
  {
   "cell_type": "markdown",
   "id": "6711ade0",
   "metadata": {},
   "source": [
    "###### Univariate Analysis\n",
    "In univariate analysis means we are performing the analysis on a single column."
   ]
  },
  {
   "cell_type": "code",
   "execution_count": 24,
   "id": "ef942f3f",
   "metadata": {},
   "outputs": [
    {
     "data": {
      "image/png": "[encoded data removed]",
      "text/plain": [
       "<Figure size 1500x1200 with 1 Axes>"
      ]
     },
     "metadata": {},
     "output_type": "display_data"
    }
   ],
   "source": [
    "plt.figure(figsize=[15,12])\n",
    "sns.countplot(data=train)\n",
    "plt.xlabel('Rating')\n",
    "plt.ylabel('City')\n",
    "plt.show()"
   ]
  },
  {
   "cell_type": "code",
   "execution_count": 13,
   "id": "d57301c0",
   "metadata": {},
   "outputs": [
    {
     "data": {
      "text/plain": [
       "<Axes: >"
      ]
     },
     "execution_count": 13,
     "metadata": {},
     "output_type": "execute_result"
    },
    {
     "data": {
      "image/png": "[encoded data removed]",
      "text/plain": [
       "<Figure size 1200x1000 with 1 Axes>"
      ]
     },
     "metadata": {},
     "output_type": "display_data"
    }
   ],
   "source": [
    "plt.figure(figsize=(12,10))\n",
    "sns.boxplot(train['COST'])"
   ]
  },
  {
   "cell_type": "code",
   "execution_count": 25,
   "id": "3e64c9d3",
   "metadata": {},
   "outputs": [
    {
     "data": {
      "text/plain": [
       "<seaborn.axisgrid.PairGrid at 0x1d2eb6af040>"
      ]
     },
     "execution_count": 25,
     "metadata": {},
     "output_type": "execute_result"
    },
    {
     "data": {
      "image/png": "[encoded data removed]",
      "text/plain": [
       "<Figure size 750x750 with 12 Axes>"
      ]
     },
     "metadata": {},
     "output_type": "display_data"
    }
   ],
   "source": [
    "sns.pairplot(data = train,palette =\"Dark2\")"
   ]
  },
  {
   "cell_type": "code",
   "execution_count": 34,
   "id": "eef86e6a",
   "metadata": {},
   "outputs": [
    {
     "name": "stdout",
     "output_type": "stream",
     "text": [
      "3.9    1238\n",
      "3.8    1190\n",
      "4.0    1099\n",
      "3.7    1086\n",
      "3.6     951\n",
      "4.1     936\n",
      "3.5     771\n",
      "4.2     723\n",
      "NEW     707\n",
      "3.4     575\n",
      "4.3     556\n",
      "-       495\n",
      "3.3     365\n",
      "4.4     362\n",
      "3.2     266\n",
      "4.5     199\n",
      "2.9     186\n",
      "3.1     186\n",
      "3.0     170\n",
      "2.8     146\n",
      "4.6     141\n",
      "2.7      89\n",
      "4.7      69\n",
      "2.6      61\n",
      "2.5      35\n",
      "4.8      32\n",
      "4.9      22\n",
      "2.4      15\n",
      "2.3      10\n",
      "2.1       3\n",
      "2.0       2\n",
      "2.2       2\n",
      "Name: RATING, dtype: int64\n"
     ]
    },
    {
     "data": {
      "image/png": "[encoded data removed]",
      "text/plain": [
       "<Figure size 640x480 with 1 Axes>"
      ]
     },
     "metadata": {},
     "output_type": "display_data"
    }
   ],
   "source": [
    "ax = sns.countplot(x ='RATING',data =train)\n",
    "print(train['RATING'].value_counts())"
   ]
  },
  {
   "cell_type": "code",
   "execution_count": 62,
   "id": "5ed7b6a7",
   "metadata": {},
   "outputs": [
    {
     "data": {
      "image/png": "[encoded data removed]",
      "text/plain": [
       "<Figure size 1500x1200 with 1 Axes>"
      ]
     },
     "metadata": {},
     "output_type": "display_data"
    }
   ],
   "source": [
    "plt.figure(figsize=[15,12])\n",
    "sns.countplot(data=train)\n",
    "plt.xlabel('Rating')\n",
    "plt.ylabel('COST')\n",
    "plt.show()"
   ]
  },
  {
   "cell_type": "code",
   "execution_count": 35,
   "id": "af7d2c1b",
   "metadata": {},
   "outputs": [
    {
     "name": "stdout",
     "output_type": "stream",
     "text": [
      "67     2174\n",
      "37     2149\n",
      "131    1819\n",
      "222    1722\n",
      "252    1321\n",
      "       ... \n",
      "111       1\n",
      "62        1\n",
      "98        1\n",
      "358       1\n",
      "212       1\n",
      "Name: CITY, Length: 360, dtype: int64\n"
     ]
    },
    {
     "data": {
      "image/png": "[encoded data removed]",
      "text/plain": [
       "<Figure size 640x480 with 1 Axes>"
      ]
     },
     "metadata": {},
     "output_type": "display_data"
    }
   ],
   "source": [
    "ax = sns.countplot(x ='CITY',data =train)\n",
    "print(train['CITY'].value_counts())"
   ]
  },
  {
   "cell_type": "code",
   "execution_count": 85,
   "id": "3592694e",
   "metadata": {},
   "outputs": [
    {
     "data": {
      "image/png": "[encoded data removed]",
      "text/plain": [
       "<Figure size 640x480 with 1 Axes>"
      ]
     },
     "metadata": {},
     "output_type": "display_data"
    }
   ],
   "source": [
    "ax = sns.distplot(train['COST'])"
   ]
  },
  {
   "cell_type": "code",
   "execution_count": 87,
   "id": "8bc58898",
   "metadata": {},
   "outputs": [],
   "source": [
    "train['COST'] = np.log(train['COST']+1)"
   ]
  },
  {
   "cell_type": "code",
   "execution_count": 89,
   "id": "761d7ca7",
   "metadata": {},
   "outputs": [
    {
     "data": {
      "text/plain": [
       "<Axes: xlabel='COST', ylabel='Density'>"
      ]
     },
     "execution_count": 89,
     "metadata": {},
     "output_type": "execute_result"
    },
    {
     "data": {
      "image/png": "[encoded data removed]",
      "text/plain": [
       "<Figure size 640x480 with 1 Axes>"
      ]
     },
     "metadata": {},
     "output_type": "display_data"
    }
   ],
   "source": [
    "sns.distplot(train['COST'])"
   ]
  },
  {
   "cell_type": "code",
   "execution_count": 15,
   "id": "cdf30bdf",
   "metadata": {},
   "outputs": [
    {
     "name": "stdout",
     "output_type": "stream",
     "text": [
      "(12690, 8) (0, 8)\n"
     ]
    }
   ],
   "source": [
    "df_train = train[train['COST'].isnull()==False]\n",
    "df_test = train[train['COST'].isnull()==True]\n",
    "print(df_train.shape,df_test.shape)"
   ]
  },
  {
   "cell_type": "markdown",
   "id": "bb4fa4a1",
   "metadata": {},
   "source": [
    "# Label Encoder"
   ]
  },
  {
   "cell_type": "code",
   "execution_count": 16,
   "id": "31069d13",
   "metadata": {},
   "outputs": [],
   "source": [
    "from sklearn.preprocessing import LabelEncoder"
   ]
  },
  {
   "cell_type": "code",
   "execution_count": 47,
   "id": "18c4c479",
   "metadata": {},
   "outputs": [
    {
     "data": {
      "text/html": [
       "<div>\n",
       "<style scoped>\n",
       "    .dataframe tbody tr th:only-of-type {\n",
       "        vertical-align: middle;\n",
       "    }\n",
       "\n",
       "    .dataframe tbody tr th {\n",
       "        vertical-align: top;\n",
       "    }\n",
       "\n",
       "    .dataframe thead th {\n",
       "        text-align: right;\n",
       "    }\n",
       "</style>\n",
       "<table border=\"1\" class=\"dataframe\">\n",
       "  <thead>\n",
       "    <tr style=\"text-align: right;\">\n",
       "      <th></th>\n",
       "      <th>TITLE</th>\n",
       "      <th>CUISINES</th>\n",
       "      <th>TIME</th>\n",
       "      <th>CITY</th>\n",
       "      <th>LOCALITY</th>\n",
       "      <th>RATING</th>\n",
       "      <th>VOTES</th>\n",
       "      <th>COST</th>\n",
       "      <th>VOTES.BINS</th>\n",
       "    </tr>\n",
       "  </thead>\n",
       "  <tbody>\n",
       "    <tr>\n",
       "      <th>0</th>\n",
       "      <td>31</td>\n",
       "      <td>2627</td>\n",
       "      <td>739</td>\n",
       "      <td>320</td>\n",
       "      <td>285</td>\n",
       "      <td>17</td>\n",
       "      <td>46</td>\n",
       "      <td>1200</td>\n",
       "      <td>3</td>\n",
       "    </tr>\n",
       "    <tr>\n",
       "      <th>1</th>\n",
       "      <td>33</td>\n",
       "      <td>289</td>\n",
       "      <td>1885</td>\n",
       "      <td>67</td>\n",
       "      <td>1046</td>\n",
       "      <td>23</td>\n",
       "      <td>27</td>\n",
       "      <td>1500</td>\n",
       "      <td>3</td>\n",
       "    </tr>\n",
       "    <tr>\n",
       "      <th>2</th>\n",
       "      <td>31</td>\n",
       "      <td>2976</td>\n",
       "      <td>661</td>\n",
       "      <td>67</td>\n",
       "      <td>1101</td>\n",
       "      <td>19</td>\n",
       "      <td>218</td>\n",
       "      <td>800</td>\n",
       "      <td>3</td>\n",
       "    </tr>\n",
       "    <tr>\n",
       "      <th>3</th>\n",
       "      <td>95</td>\n",
       "      <td>4130</td>\n",
       "      <td>275</td>\n",
       "      <td>222</td>\n",
       "      <td>136</td>\n",
       "      <td>22</td>\n",
       "      <td>21</td>\n",
       "      <td>800</td>\n",
       "      <td>3</td>\n",
       "    </tr>\n",
       "    <tr>\n",
       "      <th>4</th>\n",
       "      <td>50</td>\n",
       "      <td>1766</td>\n",
       "      <td>615</td>\n",
       "      <td>222</td>\n",
       "      <td>620</td>\n",
       "      <td>19</td>\n",
       "      <td>162</td>\n",
       "      <td>300</td>\n",
       "      <td>3</td>\n",
       "    </tr>\n",
       "  </tbody>\n",
       "</table>\n",
       "</div>"
      ],
      "text/plain": [
       "   TITLE  CUISINES  TIME  CITY  LOCALITY  RATING  VOTES  COST  VOTES.BINS\n",
       "0     31      2627   739   320       285      17     46  1200           3\n",
       "1     33       289  1885    67      1046      23     27  1500           3\n",
       "2     31      2976   661    67      1101      19    218   800           3\n",
       "3     95      4130   275   222       136      22     21   800           3\n",
       "4     50      1766   615   222       620      19    162   300           3"
      ]
     },
     "execution_count": 47,
     "metadata": {},
     "output_type": "execute_result"
    }
   ],
   "source": [
    "le =LabelEncoder()\n",
    "\n",
    "train['CITY']=le.fit_transform(train['CITY'])\n",
    "train['LOCALITY']=le.fit_transform(train['LOCALITY'])\n",
    "train['TITLE']=le.fit_transform(train['TITLE'])\n",
    "train['CUISINES']=le.fit_transform(train['CUISINES'])\n",
    "train['TIME']=le.fit_transform(train['TIME'])\n",
    "train['VOTES']=le.fit_transform(train['VOTES'])\n",
    "train['VOTES.BINS']=le.fit_transform(train['VOTES.BINS'])\n",
    "train['RATING']=le.fit_transform(train['RATING'])\n",
    "\n",
    "\n",
    "\n",
    "train.head()\n"
   ]
  },
  {
   "cell_type": "markdown",
   "id": "6c52c2a8",
   "metadata": {},
   "source": [
    "# Filling  missing value"
   ]
  },
  {
   "cell_type": "code",
   "execution_count": 90,
   "id": "e7946d72",
   "metadata": {},
   "outputs": [
    {
     "data": {
      "text/plain": [
       "304.75066981875494"
      ]
     },
     "execution_count": 90,
     "metadata": {},
     "output_type": "execute_result"
    }
   ],
   "source": [
    "train['VOTES'].mean()\n"
   ]
  },
  {
   "cell_type": "code",
   "execution_count": 92,
   "id": "fe4ff709",
   "metadata": {},
   "outputs": [],
   "source": [
    "## fill missing values using mean of the numerical column\n",
    "train['VOTES'] = train['VOTES'].fillna(train['VOTES'].mean())"
   ]
  },
  {
   "cell_type": "code",
   "execution_count": 93,
   "id": "667c44ba",
   "metadata": {},
   "outputs": [
    {
     "data": {
      "text/plain": [
       "144.8585500394011"
      ]
     },
     "execution_count": 93,
     "metadata": {},
     "output_type": "execute_result"
    }
   ],
   "source": [
    "train['CITY'].mean()"
   ]
  },
  {
   "cell_type": "code",
   "execution_count": 95,
   "id": "750ce7fc",
   "metadata": {},
   "outputs": [],
   "source": [
    " ##fill missing values using mean of the numerical column\n",
    "train['CITY'] = train['CITY'].fillna(train['CITY'].mean())"
   ]
  },
  {
   "cell_type": "code",
   "execution_count": 96,
   "id": "f236e04a",
   "metadata": {},
   "outputs": [
    {
     "data": {
      "text/plain": [
       "660.685657998424"
      ]
     },
     "execution_count": 96,
     "metadata": {},
     "output_type": "execute_result"
    }
   ],
   "source": [
    "train['LOCALITY'].mean()"
   ]
  },
  {
   "cell_type": "code",
   "execution_count": 97,
   "id": "5bb9479a",
   "metadata": {},
   "outputs": [],
   "source": [
    "train['LOCALITY'] = train['LOCALITY'].fillna(train['LOCALITY'].mean())"
   ]
  },
  {
   "cell_type": "code",
   "execution_count": 98,
   "id": "a85c6dbe",
   "metadata": {},
   "outputs": [
    {
     "data": {
      "text/plain": [
       "18.79779353821907"
      ]
     },
     "execution_count": 98,
     "metadata": {},
     "output_type": "execute_result"
    }
   ],
   "source": [
    "train['RATING'].mean()"
   ]
  },
  {
   "cell_type": "code",
   "execution_count": 99,
   "id": "dd89d6ba",
   "metadata": {},
   "outputs": [],
   "source": [
    "train['RATING'] = train['RATING'].fillna(train['RATING'].mean())"
   ]
  },
  {
   "cell_type": "markdown",
   "id": "1cb118b6",
   "metadata": {},
   "source": [
    "# OUTLIER SOLVER"
   ]
  },
  {
   "cell_type": "code",
   "execution_count": 49,
   "id": "4fb845c9",
   "metadata": {},
   "outputs": [
    {
     "name": "stdout",
     "output_type": "stream",
     "text": [
      "-450.0\n",
      "50.0\n"
     ]
    }
   ],
   "source": [
    "Q1 =train['COST'].quantile(0.25)\n",
    "Q2=train['COST'].quantile(0.50)\n",
    "Q3 =train['COST'].quantile(0.75)\n",
    "iqr =Q3-Q1\n",
    "lowerlim =Q1-1.5*iqr\n",
    "upplim = Q3-1.5*iqr\n",
    "print(lowerlim)\n",
    "print(upplim)"
   ]
  },
  {
   "cell_type": "markdown",
   "id": "b637fd78",
   "metadata": {},
   "source": [
    "# REMOVE SKNEWNESS"
   ]
  },
  {
   "cell_type": "code",
   "execution_count": 68,
   "id": "09c9222b",
   "metadata": {},
   "outputs": [
    {
     "data": {
      "text/plain": [
       "CUISINES   -0.218782\n",
       "CITY        0.304387\n",
       "LOCALITY    0.334548\n",
       "RATING     -0.801915\n",
       "VOTES       1.868231\n",
       "COST        3.978801\n",
       "dtype: float64"
      ]
     },
     "execution_count": 68,
     "metadata": {},
     "output_type": "execute_result"
    }
   ],
   "source": [
    "#checking skewness\n",
    "train.skew()"
   ]
  },
  {
   "cell_type": "code",
   "execution_count": 69,
   "id": "639f12e7",
   "metadata": {},
   "outputs": [],
   "source": [
    "train['COST'] =np.cbrt(train['COST'])"
   ]
  },
  {
   "cell_type": "code",
   "execution_count": 70,
   "id": "6753c3f9",
   "metadata": {},
   "outputs": [
    {
     "data": {
      "text/plain": [
       "CUISINES   -0.218782\n",
       "CITY        0.304387\n",
       "LOCALITY    0.334548\n",
       "RATING     -0.801915\n",
       "VOTES       1.868231\n",
       "COST        1.172684\n",
       "dtype: float64"
      ]
     },
     "execution_count": 70,
     "metadata": {},
     "output_type": "execute_result"
    }
   ],
   "source": [
    "train.skew()"
   ]
  },
  {
   "cell_type": "markdown",
   "id": "1ad6815b",
   "metadata": {},
   "source": [
    "# Corrleation Between Target Variable And Independent Variable"
   ]
  },
  {
   "cell_type": "code",
   "execution_count": 71,
   "id": "ff1fe819",
   "metadata": {},
   "outputs": [
    {
     "data": {
      "text/html": [
       "<div>\n",
       "<style scoped>\n",
       "    .dataframe tbody tr th:only-of-type {\n",
       "        vertical-align: middle;\n",
       "    }\n",
       "\n",
       "    .dataframe tbody tr th {\n",
       "        vertical-align: top;\n",
       "    }\n",
       "\n",
       "    .dataframe thead th {\n",
       "        text-align: right;\n",
       "    }\n",
       "</style>\n",
       "<table border=\"1\" class=\"dataframe\">\n",
       "  <thead>\n",
       "    <tr style=\"text-align: right;\">\n",
       "      <th></th>\n",
       "      <th>CUISINES</th>\n",
       "      <th>CITY</th>\n",
       "      <th>LOCALITY</th>\n",
       "      <th>RATING</th>\n",
       "      <th>VOTES</th>\n",
       "      <th>COST</th>\n",
       "    </tr>\n",
       "  </thead>\n",
       "  <tbody>\n",
       "    <tr>\n",
       "      <th>CUISINES</th>\n",
       "      <td>1.000000</td>\n",
       "      <td>0.020791</td>\n",
       "      <td>0.015250</td>\n",
       "      <td>-0.038558</td>\n",
       "      <td>-0.026529</td>\n",
       "      <td>-0.036974</td>\n",
       "    </tr>\n",
       "    <tr>\n",
       "      <th>CITY</th>\n",
       "      <td>0.020791</td>\n",
       "      <td>1.000000</td>\n",
       "      <td>0.070970</td>\n",
       "      <td>0.034851</td>\n",
       "      <td>0.072287</td>\n",
       "      <td>0.043415</td>\n",
       "    </tr>\n",
       "    <tr>\n",
       "      <th>LOCALITY</th>\n",
       "      <td>0.015250</td>\n",
       "      <td>0.070970</td>\n",
       "      <td>1.000000</td>\n",
       "      <td>-0.015005</td>\n",
       "      <td>-0.047223</td>\n",
       "      <td>-0.019047</td>\n",
       "    </tr>\n",
       "    <tr>\n",
       "      <th>RATING</th>\n",
       "      <td>-0.038558</td>\n",
       "      <td>0.034851</td>\n",
       "      <td>-0.015005</td>\n",
       "      <td>1.000000</td>\n",
       "      <td>0.308590</td>\n",
       "      <td>0.267651</td>\n",
       "    </tr>\n",
       "    <tr>\n",
       "      <th>VOTES</th>\n",
       "      <td>-0.026529</td>\n",
       "      <td>0.072287</td>\n",
       "      <td>-0.047223</td>\n",
       "      <td>0.308590</td>\n",
       "      <td>1.000000</td>\n",
       "      <td>0.427505</td>\n",
       "    </tr>\n",
       "    <tr>\n",
       "      <th>COST</th>\n",
       "      <td>-0.036974</td>\n",
       "      <td>0.043415</td>\n",
       "      <td>-0.019047</td>\n",
       "      <td>0.267651</td>\n",
       "      <td>0.427505</td>\n",
       "      <td>1.000000</td>\n",
       "    </tr>\n",
       "  </tbody>\n",
       "</table>\n",
       "</div>"
      ],
      "text/plain": [
       "          CUISINES      CITY  LOCALITY    RATING     VOTES      COST\n",
       "CUISINES  1.000000  0.020791  0.015250 -0.038558 -0.026529 -0.036974\n",
       "CITY      0.020791  1.000000  0.070970  0.034851  0.072287  0.043415\n",
       "LOCALITY  0.015250  0.070970  1.000000 -0.015005 -0.047223 -0.019047\n",
       "RATING   -0.038558  0.034851 -0.015005  1.000000  0.308590  0.267651\n",
       "VOTES    -0.026529  0.072287 -0.047223  0.308590  1.000000  0.427505\n",
       "COST     -0.036974  0.043415 -0.019047  0.267651  0.427505  1.000000"
      ]
     },
     "execution_count": 71,
     "metadata": {},
     "output_type": "execute_result"
    }
   ],
   "source": [
    "cor =train.corr()\n",
    "cor"
   ]
  },
  {
   "cell_type": "markdown",
   "id": "5dd93995",
   "metadata": {},
   "source": [
    "# Headmap"
   ]
  },
  {
   "cell_type": "code",
   "execution_count": 72,
   "id": "8b592ca7",
   "metadata": {},
   "outputs": [
    {
     "data": {
      "image/png": "[encoded data removed]",
      "text/plain": [
       "<Figure size 2000x1500 with 2 Axes>"
      ]
     },
     "metadata": {},
     "output_type": "display_data"
    }
   ],
   "source": [
    "plt.figure(figsize = (20,15))\n",
    "sns.heatmap(train.corr(),linewidths = 0.1,fmt = \".1g\", linecolor=\"black\",annot = True)\n",
    "plt.yticks(rotation =0);\n",
    "plt.show()"
   ]
  },
  {
   "cell_type": "markdown",
   "id": "f646d4b6",
   "metadata": {},
   "source": [
    "###### the heat map looks complicated but just focus on the last column the correlation of all the cost are  strong as it should be.\n"
   ]
  },
  {
   "cell_type": "markdown",
   "id": "7ed46566",
   "metadata": {},
   "source": [
    "# Remove column"
   ]
  },
  {
   "cell_type": "code",
   "execution_count": null,
   "id": "c9b2fa2d",
   "metadata": {},
   "outputs": [],
   "source": [
    "train = train.drop(columns=['TIME'], axis=1)\n",
    "train = train.drop(columns=['VOTES.BINS'], axis=1)\n",
    "train = train.drop(columns=['TITLE'], axis=1)\n",
    "\n",
    "\n",
    "\n",
    "train"
   ]
  },
  {
   "cell_type": "code",
   "execution_count": 116,
   "id": "39fe360e",
   "metadata": {},
   "outputs": [],
   "source": [
    "train = train.drop(columns=['CUISINES'], axis=1)"
   ]
  },
  {
   "cell_type": "markdown",
   "id": "9064314a",
   "metadata": {},
   "source": [
    "# FEATURE SELECTION"
   ]
  },
  {
   "cell_type": "markdown",
   "id": "7b70e188",
   "metadata": {},
   "source": [
    "# Separating features and label"
   ]
  },
  {
   "cell_type": "code",
   "execution_count": 118,
   "id": "f2fb0580",
   "metadata": {},
   "outputs": [],
   "source": [
    "x= train.drop(columns=['COST'], axis=1)\n",
    "y =train['COST']\n"
   ]
  },
  {
   "cell_type": "code",
   "execution_count": 119,
   "id": "97cf6b58",
   "metadata": {},
   "outputs": [
    {
     "name": "stdout",
     "output_type": "stream",
     "text": [
      "dependent variable\n"
     ]
    },
    {
     "data": {
      "text/html": [
       "<div>\n",
       "<style scoped>\n",
       "    .dataframe tbody tr th:only-of-type {\n",
       "        vertical-align: middle;\n",
       "    }\n",
       "\n",
       "    .dataframe tbody tr th {\n",
       "        vertical-align: top;\n",
       "    }\n",
       "\n",
       "    .dataframe thead th {\n",
       "        text-align: right;\n",
       "    }\n",
       "</style>\n",
       "<table border=\"1\" class=\"dataframe\">\n",
       "  <thead>\n",
       "    <tr style=\"text-align: right;\">\n",
       "      <th></th>\n",
       "      <th>CITY</th>\n",
       "      <th>LOCALITY</th>\n",
       "      <th>RATING</th>\n",
       "      <th>VOTES</th>\n",
       "    </tr>\n",
       "  </thead>\n",
       "  <tbody>\n",
       "    <tr>\n",
       "      <th>0</th>\n",
       "      <td>320</td>\n",
       "      <td>285</td>\n",
       "      <td>17</td>\n",
       "      <td>46</td>\n",
       "    </tr>\n",
       "    <tr>\n",
       "      <th>1</th>\n",
       "      <td>67</td>\n",
       "      <td>1046</td>\n",
       "      <td>23</td>\n",
       "      <td>27</td>\n",
       "    </tr>\n",
       "    <tr>\n",
       "      <th>2</th>\n",
       "      <td>67</td>\n",
       "      <td>1101</td>\n",
       "      <td>19</td>\n",
       "      <td>218</td>\n",
       "    </tr>\n",
       "    <tr>\n",
       "      <th>3</th>\n",
       "      <td>222</td>\n",
       "      <td>136</td>\n",
       "      <td>22</td>\n",
       "      <td>21</td>\n",
       "    </tr>\n",
       "    <tr>\n",
       "      <th>4</th>\n",
       "      <td>222</td>\n",
       "      <td>620</td>\n",
       "      <td>19</td>\n",
       "      <td>162</td>\n",
       "    </tr>\n",
       "    <tr>\n",
       "      <th>...</th>\n",
       "      <td>...</td>\n",
       "      <td>...</td>\n",
       "      <td>...</td>\n",
       "      <td>...</td>\n",
       "    </tr>\n",
       "    <tr>\n",
       "      <th>12685</th>\n",
       "      <td>131</td>\n",
       "      <td>342</td>\n",
       "      <td>19</td>\n",
       "      <td>543</td>\n",
       "    </tr>\n",
       "    <tr>\n",
       "      <th>12686</th>\n",
       "      <td>222</td>\n",
       "      <td>133</td>\n",
       "      <td>24</td>\n",
       "      <td>1124</td>\n",
       "    </tr>\n",
       "    <tr>\n",
       "      <th>12687</th>\n",
       "      <td>239</td>\n",
       "      <td>1342</td>\n",
       "      <td>21</td>\n",
       "      <td>605</td>\n",
       "    </tr>\n",
       "    <tr>\n",
       "      <th>12688</th>\n",
       "      <td>67</td>\n",
       "      <td>631</td>\n",
       "      <td>16</td>\n",
       "      <td>29</td>\n",
       "    </tr>\n",
       "    <tr>\n",
       "      <th>12689</th>\n",
       "      <td>131</td>\n",
       "      <td>1333</td>\n",
       "      <td>15</td>\n",
       "      <td>671</td>\n",
       "    </tr>\n",
       "  </tbody>\n",
       "</table>\n",
       "<p>12690 rows × 4 columns</p>\n",
       "</div>"
      ],
      "text/plain": [
       "       CITY  LOCALITY  RATING  VOTES\n",
       "0       320       285      17     46\n",
       "1        67      1046      23     27\n",
       "2        67      1101      19    218\n",
       "3       222       136      22     21\n",
       "4       222       620      19    162\n",
       "...     ...       ...     ...    ...\n",
       "12685   131       342      19    543\n",
       "12686   222       133      24   1124\n",
       "12687   239      1342      21    605\n",
       "12688    67       631      16     29\n",
       "12689   131      1333      15    671\n",
       "\n",
       "[12690 rows x 4 columns]"
      ]
     },
     "execution_count": 119,
     "metadata": {},
     "output_type": "execute_result"
    }
   ],
   "source": [
    "print(\"dependent variable\")\n",
    "x\n"
   ]
  },
  {
   "cell_type": "code",
   "execution_count": 113,
   "id": "b94a890e",
   "metadata": {},
   "outputs": [
    {
     "name": "stdout",
     "output_type": "stream",
     "text": [
      "Independent variable\n"
     ]
    },
    {
     "data": {
      "text/plain": [
       "0        1.239329\n",
       "1        1.258885\n",
       "2        1.203125\n",
       "3        1.203125\n",
       "4        1.112017\n",
       "           ...   \n",
       "12685    1.160084\n",
       "12686    1.274669\n",
       "12687    1.246374\n",
       "12688    1.139249\n",
       "12689    1.176917\n",
       "Name: COST, Length: 12690, dtype: float64"
      ]
     },
     "execution_count": 113,
     "metadata": {},
     "output_type": "execute_result"
    }
   ],
   "source": [
    "print(\"Independent variable\")\n",
    "y"
   ]
  },
  {
   "cell_type": "markdown",
   "id": "79fcb5dd",
   "metadata": {},
   "source": [
    "# Feature Scaling Using Standard  Scalarization"
   ]
  },
  {
   "cell_type": "code",
   "execution_count": 121,
   "id": "715d6738",
   "metadata": {},
   "outputs": [
    {
     "name": "stdout",
     "output_type": "stream",
     "text": [
      "           CITY  LOCALITY    RATING     VOTES\n",
      "0      2.035962 -0.930612 -0.290749 -0.636047\n",
      "1     -0.905080  0.954463  0.679604 -0.682752\n",
      "2     -0.905080  1.090704  0.032702 -0.213246\n",
      "3      0.896744 -1.299700  0.517879 -0.697501\n",
      "4      0.896744 -0.100783  0.032702 -0.350902\n",
      "...         ...       ...       ...       ...\n",
      "12685 -0.161101 -0.789417  0.032702  0.585652\n",
      "12686  0.896744 -1.307132  0.841330  2.013835\n",
      "12687  1.094364  1.687686  0.356153  0.738057\n",
      "12688 -0.905080 -0.073534 -0.452475 -0.677836\n",
      "12689 -0.161101  1.665392 -0.614201  0.900295\n",
      "\n",
      "[12690 rows x 4 columns]\n"
     ]
    }
   ],
   "source": [
    "from sklearn.preprocessing import StandardScaler\n",
    "scaler = StandardScaler()\n",
    "x = pd.DataFrame(scaler.fit_transform(x),columns = x.columns)\n",
    "print(x)"
   ]
  },
  {
   "cell_type": "markdown",
   "id": "66cf9451",
   "metadata": {},
   "source": [
    "# Variance Information Factor(VIF)\n"
   ]
  },
  {
   "cell_type": "code",
   "execution_count": 115,
   "id": "b5cba866",
   "metadata": {},
   "outputs": [
    {
     "data": {
      "text/html": [
       "<div>\n",
       "<style scoped>\n",
       "    .dataframe tbody tr th:only-of-type {\n",
       "        vertical-align: middle;\n",
       "    }\n",
       "\n",
       "    .dataframe tbody tr th {\n",
       "        vertical-align: top;\n",
       "    }\n",
       "\n",
       "    .dataframe thead th {\n",
       "        text-align: right;\n",
       "    }\n",
       "</style>\n",
       "<table border=\"1\" class=\"dataframe\">\n",
       "  <thead>\n",
       "    <tr style=\"text-align: right;\">\n",
       "      <th></th>\n",
       "      <th>VIF value</th>\n",
       "      <th>features</th>\n",
       "    </tr>\n",
       "  </thead>\n",
       "  <tbody>\n",
       "    <tr>\n",
       "      <th>0</th>\n",
       "      <td>1.002418</td>\n",
       "      <td>CUISINES</td>\n",
       "    </tr>\n",
       "    <tr>\n",
       "      <th>1</th>\n",
       "      <td>1.011567</td>\n",
       "      <td>CITY</td>\n",
       "    </tr>\n",
       "    <tr>\n",
       "      <th>2</th>\n",
       "      <td>1.008008</td>\n",
       "      <td>LOCALITY</td>\n",
       "    </tr>\n",
       "    <tr>\n",
       "      <th>3</th>\n",
       "      <td>1.106597</td>\n",
       "      <td>RATING</td>\n",
       "    </tr>\n",
       "    <tr>\n",
       "      <th>4</th>\n",
       "      <td>1.112937</td>\n",
       "      <td>VOTES</td>\n",
       "    </tr>\n",
       "  </tbody>\n",
       "</table>\n",
       "</div>"
      ],
      "text/plain": [
       "   VIF value  features\n",
       "0   1.002418  CUISINES\n",
       "1   1.011567      CITY\n",
       "2   1.008008  LOCALITY\n",
       "3   1.106597    RATING\n",
       "4   1.112937     VOTES"
      ]
     },
     "execution_count": 115,
     "metadata": {},
     "output_type": "execute_result"
    }
   ],
   "source": [
    "from statsmodels.stats.outliers_influence import  variance_inflation_factor\n",
    "vif =pd.DataFrame()\n",
    "vif[\"VIF value\"] = [variance_inflation_factor(x.values,i) for i in range(len(x.columns))]\n",
    "vif[\"features\"] = x.columns\n",
    "vif"
   ]
  },
  {
   "cell_type": "markdown",
   "id": "f804ebc4",
   "metadata": {},
   "source": [
    "###### The VIF value is not higher then 10 . so we don't need to solve the multicollinearity issues\n",
    "Modelling"
   ]
  },
  {
   "cell_type": "markdown",
   "id": "ad0643d8",
   "metadata": {},
   "source": [
    "# Finding the best random state"
   ]
  },
  {
   "cell_type": "code",
   "execution_count": 80,
   "id": "9a0d3864",
   "metadata": {},
   "outputs": [],
   "source": [
    "from sklearn.model_selection import train_test_split\n",
    "from  sklearn.metrics import mean_absolute_error\n",
    "from sklearn .metrics import mean_squared_error\n",
    "from sklearn.metrics import r2_score\n",
    "from sklearn.linear_model import LinearRegression\n",
    "\n"
   ]
  },
  {
   "cell_type": "code",
   "execution_count": 124,
   "id": "a9f25cec",
   "metadata": {},
   "outputs": [
    {
     "name": "stdout",
     "output_type": "stream",
     "text": [
      "Maximum  r2 sscore  is 0  on random_state 1\n"
     ]
    }
   ],
   "source": [
    "maxAccu = 0\n",
    "maxRS =0\n",
    "for i in range (1,2):\n",
    "    x_train, x_test,y_train ,y_test = train_test_split(x , y, test_size =0.2,random_state =25)\n",
    "    lr = LinearRegression()\n",
    "    lr.fit(x_train, y_train)\n",
    "    pred =lr.predict(x_test)\n",
    "    acc= r2_score(y_test,pred)\n",
    "    if acc>maxAccu:\n",
    "        maxAcc = acc\n",
    "        maxRS= i\n",
    "    print(\"Maximum  r2 sscore  is\",maxAccu,\" on random_state\",maxRS)"
   ]
  },
  {
   "cell_type": "code",
   "execution_count": 125,
   "id": "220d21bd",
   "metadata": {},
   "outputs": [],
   "source": [
    "x_train, x_test,y_train ,y_test = train_test_split(x , y, test_size =0.30,random_state =25)"
   ]
  },
  {
   "cell_type": "markdown",
   "id": "2db478b7",
   "metadata": {},
   "source": [
    "# Modelling"
   ]
  },
  {
   "cell_type": "markdown",
   "id": "5ee98176",
   "metadata": {},
   "source": [
    "# Regression Alorithm"
   ]
  },
  {
   "cell_type": "code",
   "execution_count": 63,
   "id": "0028eadc",
   "metadata": {},
   "outputs": [],
   "source": [
    "from sklearn.linear_model import LinearRegression\n",
    "from  sklearn.ensemble import RandomForestRegressor\n",
    "from sklearn.tree import DecisionTreeRegressor\n",
    "from sklearn.neighbors import KNeighborsRegressor as KNN\n",
    "from  sklearn.ensemble import ExtraTreesRegressor\n",
    "from sklearn.svm import SVR\n",
    "from sklearn.linear_model import Lasso,Ridge\n"
   ]
  },
  {
   "cell_type": "markdown",
   "id": "8741eb51",
   "metadata": {},
   "source": [
    "# Linear Regression"
   ]
  },
  {
   "cell_type": "code",
   "execution_count": 126,
   "id": "6a7b5be1",
   "metadata": {},
   "outputs": [
    {
     "name": "stdout",
     "output_type": "stream",
     "text": [
      "R2_score: 0.20470655518080472\n",
      "R2_score on training Data: 20.47065551808047\n",
      "Mean absolute Error:- 0.045437201890556396\n",
      "Mean squared Error:- 0.045437201890556396\n",
      "Root Mean squared  Error:- 0.05909622787213236\n"
     ]
    }
   ],
   "source": [
    "LR =LinearRegression()\n",
    "LR.fit(x_train,y_train)\n",
    "pred_LR = LR.predict(x_test)\n",
    "pred_train = LR.predict(x_train)\n",
    "print('R2_score:',r2_score(y_test,pred_LR))\n",
    "print('R2_score on training Data:',r2_score(y_test,pred_LR)*100)\n",
    "print('Mean absolute Error:-',mean_absolute_error(y_test,pred_LR))\n",
    "print('Mean squared Error:-',mean_absolute_error(y_test,pred_LR))\n",
    "print(\"Root Mean squared  Error:-\",np.sqrt(mean_squared_error(y_test,pred_LR)))\n"
   ]
  },
  {
   "cell_type": "markdown",
   "id": "d729e8e5",
   "metadata": {},
   "source": [
    "# Random Forest Regressor"
   ]
  },
  {
   "cell_type": "code",
   "execution_count": 156,
   "id": "e9350b5c",
   "metadata": {},
   "outputs": [
    {
     "name": "stdout",
     "output_type": "stream",
     "text": [
      "R2_score: 0.20470655518080472\n",
      "R2_score on training Data: 20.47065551808047\n",
      "Mean absolute Error:- 0.045437201890556396\n",
      "Mean squared Error:- 0.045437201890556396\n",
      "Root Mean squared  Error:- 0.05909622787213236\n"
     ]
    }
   ],
   "source": [
    "RFR = RandomForestRegressor()\n",
    "\n",
    "RFR.fit(x_train,y_train)\n",
    "pred_RFR = LR.predict(x_test)\n",
    "pred_train = RFR.predict(x_train)\n",
    "print('R2_score:',r2_score(y_test,pred_RFR))\n",
    "print('R2_score on training Data:',r2_score(y_test,pred_RFR)*100)\n",
    "print('Mean absolute Error:-',mean_absolute_error(y_test,pred_RFR))\n",
    "print('Mean squared Error:-',mean_absolute_error(y_test,pred_RFR))\n",
    "print(\"Root Mean squared  Error:-\",np.sqrt(mean_squared_error(y_test,pred_RFR)))\n"
   ]
  },
  {
   "cell_type": "markdown",
   "id": "749ce971",
   "metadata": {},
   "source": [
    "# K-Nearest Neighbor"
   ]
  },
  {
   "cell_type": "code",
   "execution_count": 143,
   "id": "819306ef",
   "metadata": {},
   "outputs": [
    {
     "name": "stdout",
     "output_type": "stream",
     "text": [
      "R2_score: 0.16427771056336937\n",
      "R2_score on training Data: 16.427771056336937\n",
      "Mean absolute Error:- 0.04705733962311594\n",
      "Mean squared Error:- 0.04705733962311594\n",
      "Root Mean squared  Error:- 0.060579690735952735\n"
     ]
    }
   ],
   "source": [
    "knn= KNN()\n",
    "knn.fit(x_train,y_train)\n",
    "pred_knn = knn.predict(x_test)\n",
    "pred_train = knn.predict(x_train)\n",
    "print('R2_score:',r2_score(y_test,pred_knn))\n",
    "print('R2_score on training Data:',r2_score(y_test,pred_knn)*100)\n",
    "print('Mean absolute Error:-',mean_absolute_error(y_test,pred_knn))\n",
    "print('Mean squared Error:-',mean_absolute_error(y_test,pred_knn))\n",
    "print(\"Root Mean squared  Error:-\",np.sqrt(mean_squared_error(y_test,pred_knn)))"
   ]
  },
  {
   "cell_type": "markdown",
   "id": "ede336b0",
   "metadata": {},
   "source": [
    "# Lasso"
   ]
  },
  {
   "cell_type": "code",
   "execution_count": 129,
   "id": "cea74c56",
   "metadata": {},
   "outputs": [
    {
     "name": "stdout",
     "output_type": "stream",
     "text": [
      "R2_score: 0.20470655518080472\n",
      "R2_score on training Data: 20.47065551808047\n",
      "Mean absolute Error:- 0.045437201890556396\n",
      "Mean squared Error:- 0.045437201890556396\n",
      "Root Mean squared  Error:- 0.05909622787213236\n"
     ]
    }
   ],
   "source": [
    "lasso = Lasso()\n",
    "\n",
    "lasso.fit(x_train,y_train)\n",
    "pred_lasso = LR.predict(x_test)\n",
    "pred_train = lasso.predict(x_train)\n",
    "print('R2_score:',r2_score(y_test,pred_lasso))\n",
    "print('R2_score on training Data:',r2_score(y_test,pred_lasso)*100)\n",
    "print('Mean absolute Error:-',mean_absolute_error(y_test,pred_lasso))\n",
    "print('Mean squared Error:-',mean_absolute_error(y_test,pred_lasso))\n",
    "print(\"Root Mean squared  Error:-\",np.sqrt(mean_squared_error(y_test,pred_lasso)))"
   ]
  },
  {
   "cell_type": "markdown",
   "id": "de15c9a4",
   "metadata": {},
   "source": [
    "# Ridge"
   ]
  },
  {
   "cell_type": "code",
   "execution_count": 130,
   "id": "de253c0b",
   "metadata": {},
   "outputs": [
    {
     "name": "stdout",
     "output_type": "stream",
     "text": [
      "R2_score: 0.20470633094495372\n",
      "R2_score on training Data: 20.470633094495373\n",
      "Mean absolute Error:- 0.04543729492892751\n",
      "Mean squared Error:- 0.04543729492892751\n",
      "Root Mean squared  Error:- 0.05909623620332891\n"
     ]
    }
   ],
   "source": [
    "rd= Ridge()\n",
    "\n",
    "rd.fit(x_train,y_train)\n",
    "pred_rd = rd.predict(x_test)\n",
    "pred_train = rd.predict(x_train)\n",
    "print('R2_score:',r2_score(y_test,pred_rd))\n",
    "print('R2_score on training Data:',r2_score(y_test,pred_rd)*100)\n",
    "print('Mean absolute Error:-',mean_absolute_error(y_test,pred_rd))\n",
    "print('Mean squared Error:-',mean_absolute_error(y_test,pred_rd))\n",
    "print(\"Root Mean squared  Error:-\",np.sqrt(mean_squared_error(y_test,pred_rd)))\n"
   ]
  },
  {
   "cell_type": "markdown",
   "id": "a44d3953",
   "metadata": {},
   "source": [
    "# Decision Tree Regressor"
   ]
  },
  {
   "cell_type": "code",
   "execution_count": null,
   "id": "f4de8e52",
   "metadata": {},
   "outputs": [],
   "source": [
    "\n",
    "dtr = DecisionTreeRegressor()\n",
    "dtr.fit(x_train,y_train)\n",
    "pred_dtr = dtr.predict(x_test)\n",
    "pred_train = dtr.predict(x_train)\n",
    "print('R2_score:',r2_score(y_test,pred_dtr))\n",
    "print('R2_score on training Data:',r2_score(y_test,pred_dtr)*100)\n",
    "print('Mean absolute Error:-',mean_absolute_error(y_test,pred_dtr))\n",
    "print('Mean squared Error:-',mean_absolute_error(y_test,pred_dtr))\n",
    "print(\"Root Mean squared  Error:-\",np.sqrt(mean_squared_error(y_test,pred_dtr)))\n",
    "\n",
    "dtr = DecisionTreeRegressor()"
   ]
  },
  {
   "cell_type": "code",
   "execution_count": 131,
   "id": "bcfefc66",
   "metadata": {},
   "outputs": [
    {
     "name": "stdout",
     "output_type": "stream",
     "text": [
      "R2_score: -0.42677589887074685\n",
      "R2_score on training Data: -42.67758988707469\n",
      "Mean absolute Error:- 0.060525265867648344\n",
      "Mean squared Error:- 0.060525265867648344\n",
      "Root Mean squared  Error:- 0.07915419592361737\n"
     ]
    }
   ],
   "source": [
    "dtr = DecisionTreeRegressor()\n",
    "dtr.fit(x_train,y_train)\n",
    "pred_dtr = dtr.predict(x_test)\n",
    "pred_train = dtr.predict(x_train)\n",
    "print('R2_score:',r2_score(y_test,pred_dtr))\n",
    "print('R2_score on training Data:',r2_score(y_test,pred_dtr)*100)\n",
    "print('Mean absolute Error:-',mean_absolute_error(y_test,pred_dtr))\n",
    "print('Mean squared Error:-',mean_absolute_error(y_test,pred_dtr))\n",
    "print(\"Root Mean squared  Error:-\",np.sqrt(mean_squared_error(y_test,pred_dtr)))\n"
   ]
  },
  {
   "cell_type": "markdown",
   "id": "4f337ee4",
   "metadata": {},
   "source": [
    "# Support Vector Regressor"
   ]
  },
  {
   "cell_type": "code",
   "execution_count": 132,
   "id": "d88dcba7",
   "metadata": {},
   "outputs": [
    {
     "name": "stdout",
     "output_type": "stream",
     "text": [
      "R2_score: -0.42677589887074685\n",
      "R2_score on training Data: 19.623729135881142\n",
      "Mean absolute Error:- 0.046568866438934244\n",
      "Mean squared Error:- 0.046568866438934244\n",
      "Root Mean squared  Error:- 0.05941005926790803\n"
     ]
    }
   ],
   "source": [
    "svr = SVR()\n",
    "svr.fit(x_train,y_train)\n",
    "pred_SVR = svr.predict(x_test)\n",
    "pred_train = svr.predict(x_train)\n",
    "print('R2_score:',r2_score(y_test,pred_dtr))\n",
    "print('R2_score on training Data:',r2_score(y_test,pred_SVR)*100)\n",
    "print('Mean absolute Error:-',mean_absolute_error(y_test,pred_SVR))\n",
    "print('Mean squared Error:-',mean_absolute_error(y_test,pred_SVR))\n",
    "print(\"Root Mean squared  Error:-\",np.sqrt(mean_squared_error(y_test,pred_SVR)))\n"
   ]
  },
  {
   "cell_type": "markdown",
   "id": "fe59c9c4",
   "metadata": {},
   "source": [
    "# ExtraTrees Regressor"
   ]
  },
  {
   "cell_type": "code",
   "execution_count": 133,
   "id": "b3904840",
   "metadata": {},
   "outputs": [
    {
     "name": "stdout",
     "output_type": "stream",
     "text": [
      "R2_score: 0.15696893731239536\n",
      "R2_score on training Data: 15.696893731239536\n",
      "Mean absolute Error:- 0.04671658852167592\n",
      "Mean squared Error:- 0.04671658852167592\n",
      "Root Mean squared  Error:- 0.06084401262679172\n"
     ]
    }
   ],
   "source": [
    "etr = ExtraTreesRegressor()\n",
    "etr.fit(x_train,y_train)\n",
    "pred_ETR = etr.predict(x_test)\n",
    "pred_train = etr.predict(x_train)\n",
    "print('R2_score:',r2_score(y_test,pred_ETR))\n",
    "print('R2_score on training Data:',r2_score(y_test,pred_ETR)*100)\n",
    "print('Mean absolute Error:-',mean_absolute_error(y_test,pred_ETR))\n",
    "print('Mean squared Error:-',mean_absolute_error(y_test,pred_ETR))\n",
    "print(\"Root Mean squared  Error:-\",np.sqrt(mean_squared_error(y_test,pred_ETR)))\n",
    "\n"
   ]
  },
  {
   "cell_type": "markdown",
   "id": "ad4861d5",
   "metadata": {},
   "source": [
    "# Cross validation"
   ]
  },
  {
   "cell_type": "code",
   "execution_count": 134,
   "id": "a772a4d9",
   "metadata": {},
   "outputs": [],
   "source": [
    "from sklearn.model_selection import cross_val_score "
   ]
  },
  {
   "cell_type": "code",
   "execution_count": 135,
   "id": "d7302063",
   "metadata": {},
   "outputs": [
    {
     "name": "stdout",
     "output_type": "stream",
     "text": [
      "[0.20415607 0.21187729 0.1916913  0.18612299 0.21326688]\n",
      "0.20142290583380457\n",
      "Difference Between Accuracy and Cross Validation Score is_ -19.93758402819965\n"
     ]
    }
   ],
   "source": [
    "score = cross_val_score(LR,x,y)\n",
    "print(score)\n",
    "print(score.mean())\n",
    "print(\"Difference Between Accuracy and Cross Validation Score is_\",(r2_score(y_test,pred_LR)-score.mean()*100))"
   ]
  },
  {
   "cell_type": "code",
   "execution_count": 136,
   "id": "04b51c60",
   "metadata": {},
   "outputs": [
    {
     "name": "stdout",
     "output_type": "stream",
     "text": [
      "[0.21960007 0.21894968 0.22441893 0.20655864 0.23151615]\n",
      "0.22020869373465982\n",
      "Difference Between Accuracy and Cross Validation Score is_ -21.816162818285175\n"
     ]
    }
   ],
   "source": [
    "# checking crosss validation score for random forest classifier\n",
    "score = cross_val_score(RFR,x,y)\n",
    "print(score)\n",
    "print(score.mean())\n",
    "print(\"Difference Between Accuracy and Cross Validation Score is_\",(r2_score(y_test,pred_RFR)-score.mean()*100))"
   ]
  },
  {
   "cell_type": "code",
   "execution_count": 137,
   "id": "fb52c7a9",
   "metadata": {},
   "outputs": [
    {
     "name": "stdout",
     "output_type": "stream",
     "text": [
      "[0.14790247 0.16214056 0.15072505 0.15241654 0.17846477]\n",
      "0.1583298777186197\n",
      "Difference Between Accuracy and Cross Validation Score is_ -15.668710061298599\n"
     ]
    }
   ],
   "source": [
    "# checking crosss validation score for knn\n",
    "score = cross_val_score(knn,x,y)\n",
    "print(score)\n",
    "print(score.mean())\n",
    "print(\"Difference Between Accuracy and Cross Validation Score is_\",(r2_score(y_test,pred_knn)-score.mean()*100))"
   ]
  },
  {
   "cell_type": "code",
   "execution_count": 138,
   "id": "9d28c1ee",
   "metadata": {},
   "outputs": [
    {
     "name": "stdout",
     "output_type": "stream",
     "text": [
      "[-5.81939834e-06 -1.77459632e-03 -1.57425843e-05 -8.57669817e-04\n",
      " -3.59843191e-04]\n",
      "-0.0006027342616455212\n",
      "Difference Between Accuracy and Cross Validation Score is_ 0.26497998134535683\n"
     ]
    }
   ],
   "source": [
    "# checking crosss validation score for lasso\n",
    "score = cross_val_score(lasso,x,y)\n",
    "print(score)\n",
    "print(score.mean())\n",
    "print(\"Difference Between Accuracy and Cross Validation Score is_\",(r2_score(y_test,pred_lasso)-score.mean()*100))"
   ]
  },
  {
   "cell_type": "code",
   "execution_count": 139,
   "id": "3c0fdb4e",
   "metadata": {},
   "outputs": [
    {
     "name": "stdout",
     "output_type": "stream",
     "text": [
      "[0.2041552  0.21187694 0.1916937  0.18612296 0.21326597]\n",
      "0.20142295249275177\n",
      "Difference Between Accuracy and Cross Validation Score is_ -19.937588918330224\n"
     ]
    }
   ],
   "source": [
    "# checking crosss validation score for ridge\n",
    "score = cross_val_score(rd,x,y)\n",
    "print(score)\n",
    "print(score.mean())\n",
    "print(\"Difference Between Accuracy and Cross Validation Score is_\",(r2_score(y_test,pred_rd)-score.mean()*100))"
   ]
  },
  {
   "cell_type": "code",
   "execution_count": 140,
   "id": "e045b909",
   "metadata": {},
   "outputs": [
    {
     "name": "stdout",
     "output_type": "stream",
     "text": [
      "[-0.45724209 -0.4544072  -0.39238023 -0.46530024 -0.3705339 ]\n",
      "-0.427972730840831\n",
      "Difference Between Accuracy and Cross Validation Score is_ 42.37049718521236\n"
     ]
    }
   ],
   "source": [
    "# checking crosss validation score for Decision Tree regressor\n",
    "score = cross_val_score(dtr,x,y)\n",
    "print(score)\n",
    "print(score.mean())\n",
    "print(\"Difference Between Accuracy and Cross Validation Score is_\",(r2_score(y_test,pred_dtr)-score.mean()*100))"
   ]
  },
  {
   "cell_type": "code",
   "execution_count": 141,
   "id": "f78cd3b1",
   "metadata": {},
   "outputs": [
    {
     "name": "stdout",
     "output_type": "stream",
     "text": [
      "[0.20610466 0.20687955 0.20892071 0.20819057 0.22168823]\n",
      "0.21035674536223206\n",
      "Difference Between Accuracy and Cross Validation Score is_ -20.839437244864392\n"
     ]
    }
   ],
   "source": [
    "# checking crosss validation score for support vector machine regressor\n",
    "score = cross_val_score(svr,x,y)\n",
    "print(score)\n",
    "print(score.mean())\n",
    "print(\"Difference Between Accuracy and Cross Validation Score is_\",(r2_score(y_test,pred_SVR)-score.mean()*100))"
   ]
  },
  {
   "cell_type": "code",
   "execution_count": 142,
   "id": "2d823390",
   "metadata": {},
   "outputs": [
    {
     "name": "stdout",
     "output_type": "stream",
     "text": [
      "[0.17053372 0.13027524 0.15711452 0.12856849 0.16666402]\n",
      "0.15063119769420175\n",
      "Difference Between Accuracy and Cross Validation Score is_ -14.906150832107778\n"
     ]
    }
   ],
   "source": [
    "# checking crosss validation score for Extra tree Regressor\n",
    "score = cross_val_score(etr,x,y)\n",
    "print(score)\n",
    "print(score.mean())\n",
    "print(\"Difference Between Accuracy and Cross Validation Score is_\",(r2_score(y_test,pred_ETR)-score.mean()*100))"
   ]
  },
  {
   "cell_type": "markdown",
   "id": "2ce65531",
   "metadata": {},
   "source": [
    "###### Lasso  as our best fitting and best performing model."
   ]
  },
  {
   "cell_type": "markdown",
   "id": "d6d70023",
   "metadata": {},
   "source": [
    "# Hyper Parameter Tuning"
   ]
  },
  {
   "cell_type": "code",
   "execution_count": 145,
   "id": "74cc0818",
   "metadata": {},
   "outputs": [],
   "source": [
    "from sklearn.model_selection import GridSearchCV"
   ]
  },
  {
   "cell_type": "code",
   "execution_count": 146,
   "id": "2ed80009",
   "metadata": {},
   "outputs": [
    {
     "data": {
      "text/html": [
       "<style>#sk-container-id-1 {color: black;background-color: white;}#sk-container-id-1 pre{padding: 0;}#sk-container-id-1 div.sk-toggleable {background-color: white;}#sk-container-id-1 label.sk-toggleable__label {cursor: pointer;display: block;width: 100%;margin-bottom: 0;padding: 0.3em;box-sizing: border-box;text-align: center;}#sk-container-id-1 label.sk-toggleable__label-arrow:before {content: \"▸\";float: left;margin-right: 0.25em;color: #696969;}#sk-container-id-1 label.sk-toggleable__label-arrow:hover:before {color: black;}#sk-container-id-1 div.sk-estimator:hover label.sk-toggleable__label-arrow:before {color: black;}#sk-container-id-1 div.sk-toggleable__content {max-height: 0;max-width: 0;overflow: hidden;text-align: left;background-color: #f0f8ff;}#sk-container-id-1 div.sk-toggleable__content pre {margin: 0.2em;color: black;border-radius: 0.25em;background-color: #f0f8ff;}#sk-container-id-1 input.sk-toggleable__control:checked~div.sk-toggleable__content {max-height: 200px;max-width: 100%;overflow: auto;}#sk-container-id-1 input.sk-toggleable__control:checked~label.sk-toggleable__label-arrow:before {content: \"▾\";}#sk-container-id-1 div.sk-estimator input.sk-toggleable__control:checked~label.sk-toggleable__label {background-color: #d4ebff;}#sk-container-id-1 div.sk-label input.sk-toggleable__control:checked~label.sk-toggleable__label {background-color: #d4ebff;}#sk-container-id-1 input.sk-hidden--visually {border: 0;clip: rect(1px 1px 1px 1px);clip: rect(1px, 1px, 1px, 1px);height: 1px;margin: -1px;overflow: hidden;padding: 0;position: absolute;width: 1px;}#sk-container-id-1 div.sk-estimator {font-family: monospace;background-color: #f0f8ff;border: 1px dotted black;border-radius: 0.25em;box-sizing: border-box;margin-bottom: 0.5em;}#sk-container-id-1 div.sk-estimator:hover {background-color: #d4ebff;}#sk-container-id-1 div.sk-parallel-item::after {content: \"\";width: 100%;border-bottom: 1px solid gray;flex-grow: 1;}#sk-container-id-1 div.sk-label:hover label.sk-toggleable__label {background-color: #d4ebff;}#sk-container-id-1 div.sk-serial::before {content: \"\";position: absolute;border-left: 1px solid gray;box-sizing: border-box;top: 0;bottom: 0;left: 50%;z-index: 0;}#sk-container-id-1 div.sk-serial {display: flex;flex-direction: column;align-items: center;background-color: white;padding-right: 0.2em;padding-left: 0.2em;position: relative;}#sk-container-id-1 div.sk-item {position: relative;z-index: 1;}#sk-container-id-1 div.sk-parallel {display: flex;align-items: stretch;justify-content: center;background-color: white;position: relative;}#sk-container-id-1 div.sk-item::before, #sk-container-id-1 div.sk-parallel-item::before {content: \"\";position: absolute;border-left: 1px solid gray;box-sizing: border-box;top: 0;bottom: 0;left: 50%;z-index: -1;}#sk-container-id-1 div.sk-parallel-item {display: flex;flex-direction: column;z-index: 1;position: relative;background-color: white;}#sk-container-id-1 div.sk-parallel-item:first-child::after {align-self: flex-end;width: 50%;}#sk-container-id-1 div.sk-parallel-item:last-child::after {align-self: flex-start;width: 50%;}#sk-container-id-1 div.sk-parallel-item:only-child::after {width: 0;}#sk-container-id-1 div.sk-dashed-wrapped {border: 1px dashed gray;margin: 0 0.4em 0.5em 0.4em;box-sizing: border-box;padding-bottom: 0.4em;background-color: white;}#sk-container-id-1 div.sk-label label {font-family: monospace;font-weight: bold;display: inline-block;line-height: 1.2em;}#sk-container-id-1 div.sk-label-container {text-align: center;}#sk-container-id-1 div.sk-container {/* jupyter's `normalize.less` sets `[hidden] { display: none; }` but bootstrap.min.css set `[hidden] { display: none !important; }` so we also need the `!important` here to be able to override the default hidden behavior on the sphinx rendered scikit-learn.org. See: https://github.com/scikit-learn/scikit-learn/issues/21755 */display: inline-block !important;position: relative;}#sk-container-id-1 div.sk-text-repr-fallback {display: none;}</style><div id=\"sk-container-id-1\" class=\"sk-top-container\"><div class=\"sk-text-repr-fallback\"><pre>GridSearchCV(cv=5, estimator=Lasso(),\n",
       "             param_grid={&#x27;alpha&#x27;: [1.0, 0.5, 0.4, 2],\n",
       "                         &#x27;fit_intercept&#x27;: [True, False],\n",
       "                         &#x27;precompute&#x27;: [True, False],\n",
       "                         &#x27;random_state&#x27;: [1, 4, 10, 20],\n",
       "                         &#x27;warm_start&#x27;: [True, False]})</pre><b>In a Jupyter environment, please rerun this cell to show the HTML representation or trust the notebook. <br />On GitHub, the HTML representation is unable to render, please try loading this page with nbviewer.org.</b></div><div class=\"sk-container\" hidden><div class=\"sk-item sk-dashed-wrapped\"><div class=\"sk-label-container\"><div class=\"sk-label sk-toggleable\"><input class=\"sk-toggleable__control sk-hidden--visually\" id=\"sk-estimator-id-1\" type=\"checkbox\" ><label for=\"sk-estimator-id-1\" class=\"sk-toggleable__label sk-toggleable__label-arrow\">GridSearchCV</label><div class=\"sk-toggleable__content\"><pre>GridSearchCV(cv=5, estimator=Lasso(),\n",
       "             param_grid={&#x27;alpha&#x27;: [1.0, 0.5, 0.4, 2],\n",
       "                         &#x27;fit_intercept&#x27;: [True, False],\n",
       "                         &#x27;precompute&#x27;: [True, False],\n",
       "                         &#x27;random_state&#x27;: [1, 4, 10, 20],\n",
       "                         &#x27;warm_start&#x27;: [True, False]})</pre></div></div></div><div class=\"sk-parallel\"><div class=\"sk-parallel-item\"><div class=\"sk-item\"><div class=\"sk-label-container\"><div class=\"sk-label sk-toggleable\"><input class=\"sk-toggleable__control sk-hidden--visually\" id=\"sk-estimator-id-2\" type=\"checkbox\" ><label for=\"sk-estimator-id-2\" class=\"sk-toggleable__label sk-toggleable__label-arrow\">estimator: Lasso</label><div class=\"sk-toggleable__content\"><pre>Lasso()</pre></div></div></div><div class=\"sk-serial\"><div class=\"sk-item\"><div class=\"sk-estimator sk-toggleable\"><input class=\"sk-toggleable__control sk-hidden--visually\" id=\"sk-estimator-id-3\" type=\"checkbox\" ><label for=\"sk-estimator-id-3\" class=\"sk-toggleable__label sk-toggleable__label-arrow\">Lasso</label><div class=\"sk-toggleable__content\"><pre>Lasso()</pre></div></div></div></div></div></div></div></div></div></div>"
      ],
      "text/plain": [
       "GridSearchCV(cv=5, estimator=Lasso(),\n",
       "             param_grid={'alpha': [1.0, 0.5, 0.4, 2],\n",
       "                         'fit_intercept': [True, False],\n",
       "                         'precompute': [True, False],\n",
       "                         'random_state': [1, 4, 10, 20],\n",
       "                         'warm_start': [True, False]})"
      ]
     },
     "execution_count": 146,
     "metadata": {},
     "output_type": "execute_result"
    }
   ],
   "source": [
    "param ={'alpha':[1.0,0.5,.4,2],\n",
    "        'fit_intercept':[True,False],\n",
    "        'precompute':[True,False],\n",
    "        'warm_start':[True,False],\n",
    "       'random_state':[1,4,10,20]\n",
    "       }\n",
    "gscv = GridSearchCV(Lasso(),param,cv =5)\n",
    "gscv.fit(x_train, y_train)"
   ]
  },
  {
   "cell_type": "code",
   "execution_count": 147,
   "id": "0ffb171f",
   "metadata": {},
   "outputs": [
    {
     "data": {
      "text/plain": [
       "{'alpha': 1.0,\n",
       " 'fit_intercept': True,\n",
       " 'precompute': True,\n",
       " 'random_state': 1,\n",
       " 'warm_start': True}"
      ]
     },
     "execution_count": 147,
     "metadata": {},
     "output_type": "execute_result"
    }
   ],
   "source": [
    "gscv.best_params_"
   ]
  },
  {
   "cell_type": "code",
   "execution_count": 148,
   "id": "74863f14",
   "metadata": {},
   "outputs": [],
   "source": [
    "Model = Lasso(alpha = 1.0,fit_intercept =True,precompute=True,random_state =1,warm_start =True)"
   ]
  },
  {
   "cell_type": "markdown",
   "id": "84e840c8",
   "metadata": {},
   "source": [
    "# Save The Model"
   ]
  },
  {
   "cell_type": "code",
   "execution_count": 150,
   "id": "d2f753ce",
   "metadata": {},
   "outputs": [
    {
     "data": {
      "text/plain": [
       "[' Restaurant Food Cost .pkl']"
      ]
     },
     "execution_count": 150,
     "metadata": {},
     "output_type": "execute_result"
    }
   ],
   "source": [
    "import joblib\n",
    "joblib.dump(Model,\" Restaurant Food Cost .pkl\")"
   ]
  },
  {
   "cell_type": "code",
   "execution_count": 151,
   "id": "6f08e5cf",
   "metadata": {},
   "outputs": [],
   "source": [
    "import pickle\n",
    "filename = 'Restaurant Food Cost .pkl'\n",
    "pickle.dump(Model,open(filename, 'wb'))"
   ]
  },
  {
   "cell_type": "markdown",
   "id": "38bd0132",
   "metadata": {},
   "source": [
    "# Predict The Model"
   ]
  },
  {
   "cell_type": "code",
   "execution_count": 154,
   "id": "472837d1",
   "metadata": {},
   "outputs": [
    {
     "data": {
      "text/plain": [
       "array([1.15775002, 1.15775002, 1.15775002, ..., 1.15775002, 1.15775002,\n",
       "       1.15775002])"
      ]
     },
     "execution_count": 154,
     "metadata": {},
     "output_type": "execute_result"
    }
   ],
   "source": [
    "# lets load the save model and predict it \n",
    "Model =joblib.load(\" Restaurant Food Cost .pkl\")\n",
    "prediction = Model.predict(x_test)\n",
    "prediction"
   ]
  },
  {
   "cell_type": "markdown",
   "id": "ad9e58b1",
   "metadata": {},
   "source": [
    "# Predicted and Original Value"
   ]
  },
  {
   "cell_type": "code",
   "execution_count": 155,
   "id": "762b7546",
   "metadata": {},
   "outputs": [
    {
     "data": {
      "text/html": [
       "<div>\n",
       "<style scoped>\n",
       "    .dataframe tbody tr th:only-of-type {\n",
       "        vertical-align: middle;\n",
       "    }\n",
       "\n",
       "    .dataframe tbody tr th {\n",
       "        vertical-align: top;\n",
       "    }\n",
       "\n",
       "    .dataframe thead th {\n",
       "        text-align: right;\n",
       "    }\n",
       "</style>\n",
       "<table border=\"1\" class=\"dataframe\">\n",
       "  <thead>\n",
       "    <tr style=\"text-align: right;\">\n",
       "      <th></th>\n",
       "      <th>predicted</th>\n",
       "      <th>original</th>\n",
       "    </tr>\n",
       "  </thead>\n",
       "  <tbody>\n",
       "    <tr>\n",
       "      <th>0</th>\n",
       "      <td>1.15775</td>\n",
       "      <td>1.203125</td>\n",
       "    </tr>\n",
       "    <tr>\n",
       "      <th>1</th>\n",
       "      <td>1.15775</td>\n",
       "      <td>1.004362</td>\n",
       "    </tr>\n",
       "    <tr>\n",
       "      <th>2</th>\n",
       "      <td>1.15775</td>\n",
       "      <td>1.176917</td>\n",
       "    </tr>\n",
       "    <tr>\n",
       "      <th>3</th>\n",
       "      <td>1.15775</td>\n",
       "      <td>1.094544</td>\n",
       "    </tr>\n",
       "    <tr>\n",
       "      <th>4</th>\n",
       "      <td>1.15775</td>\n",
       "      <td>1.160084</td>\n",
       "    </tr>\n",
       "    <tr>\n",
       "      <th>...</th>\n",
       "      <td>...</td>\n",
       "      <td>...</td>\n",
       "    </tr>\n",
       "    <tr>\n",
       "      <th>3802</th>\n",
       "      <td>1.15775</td>\n",
       "      <td>1.126661</td>\n",
       "    </tr>\n",
       "    <tr>\n",
       "      <th>3803</th>\n",
       "      <td>1.15775</td>\n",
       "      <td>1.291841</td>\n",
       "    </tr>\n",
       "    <tr>\n",
       "      <th>3804</th>\n",
       "      <td>1.15775</td>\n",
       "      <td>1.112017</td>\n",
       "    </tr>\n",
       "    <tr>\n",
       "      <th>3805</th>\n",
       "      <td>1.15775</td>\n",
       "      <td>1.139249</td>\n",
       "    </tr>\n",
       "    <tr>\n",
       "      <th>3806</th>\n",
       "      <td>1.15775</td>\n",
       "      <td>1.317969</td>\n",
       "    </tr>\n",
       "  </tbody>\n",
       "</table>\n",
       "<p>3807 rows × 2 columns</p>\n",
       "</div>"
      ],
      "text/plain": [
       "      predicted  original\n",
       "0       1.15775  1.203125\n",
       "1       1.15775  1.004362\n",
       "2       1.15775  1.176917\n",
       "3       1.15775  1.094544\n",
       "4       1.15775  1.160084\n",
       "...         ...       ...\n",
       "3802    1.15775  1.126661\n",
       "3803    1.15775  1.291841\n",
       "3804    1.15775  1.112017\n",
       "3805    1.15775  1.139249\n",
       "3806    1.15775  1.317969\n",
       "\n",
       "[3807 rows x 2 columns]"
      ]
     },
     "execution_count": 155,
     "metadata": {},
     "output_type": "execute_result"
    }
   ],
   "source": [
    "a = np.array(y_test)\n",
    "df1 = pd.DataFrame()\n",
    "df1[\"predicted\"] = prediction\n",
    "df1[\"original\"] = a\n",
    "df1"
   ]
  },
  {
   "cell_type": "code",
   "execution_count": null,
   "id": "6790254c",
   "metadata": {},
   "outputs": [],
   "source": []
  }
 ],
 "metadata": {
  "kernelspec": {
   "display_name": "Python 3 (ipykernel)",
   "language": "python",
   "name": "python3"
  },
  "language_info": {
   "codemirror_mode": {
    "name": "ipython",
    "version": 3
   },
   "file_extension": ".py",
   "mimetype": "text/x-python",
   "name": "python",
   "nbconvert_exporter": "python",
   "pygments_lexer": "ipython3",
   "version": "3.10.9"
  }
 },
 "nbformat": 4,
 "nbformat_minor": 5
}
